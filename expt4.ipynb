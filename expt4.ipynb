{
  "nbformat": 4,
  "nbformat_minor": 0,
  "metadata": {
    "colab": {
      "name": "expt4.ipynb",
      "provenance": [],
      "collapsed_sections": [],
      "toc_visible": true,
      "authorship_tag": "ABX9TyPTK4pWj7IAbLI/X9W9Xthv",
      "include_colab_link": true
    },
    "kernelspec": {
      "name": "python3",
      "display_name": "Python 3"
    }
  },
  "cells": [
    {
      "cell_type": "markdown",
      "metadata": {
        "id": "view-in-github",
        "colab_type": "text"
      },
      "source": [
        "<a href=\"https://colab.research.google.com/github/sabih411/Answer/blob/main/expt4.ipynb\" target=\"_parent\"><img src=\"https://colab.research.google.com/assets/colab-badge.svg\" alt=\"Open In Colab\"/></a>"
      ]
    },
    {
      "cell_type": "code",
      "metadata": {
        "id": "fidsBhVUBM-1"
      },
      "source": [
        "import matplotlib.pyplot as plt\r\n",
        "import seaborn as sns\r\n",
        "import numpy as np\r\n",
        "from sklearn.metrics import confusion_matrix"
      ],
      "execution_count": null,
      "outputs": []
    },
    {
      "cell_type": "code",
      "metadata": {
        "colab": {
          "base_uri": "https://localhost:8080/"
        },
        "id": "CpwN0qB3FB0m",
        "outputId": "c5a4bd40-16ef-4d9b-a117-17eb00431640"
      },
      "source": [
        "import keras\r\n",
        "from keras.datasets import mnist\r\n",
        "from keras.layers import *\r\n",
        "from keras.models import Sequential \r\n",
        "import random\r\n",
        "\r\n",
        "\r\n",
        "(x_tr,y_tr),(x_te,y_te)=mnist.load_data()\r\n",
        "x_tr_drawing=x_tr\r\n",
        "print(\"x_train\",x_tr[0])\r\n",
        "print(\"y_train\",y_tr[0])\r\n",
        "print(\"x_train\",x_tr.shape)\r\n",
        "print(\"y_train\",y_tr.shape)"
      ],
      "execution_count": null,
      "outputs": [
        {
          "output_type": "stream",
          "text": [
            "Downloading data from https://storage.googleapis.com/tensorflow/tf-keras-datasets/mnist.npz\n",
            "11493376/11490434 [==============================] - 0s 0us/step\n",
            "x_train [[  0   0   0   0   0   0   0   0   0   0   0   0   0   0   0   0   0   0\n",
            "    0   0   0   0   0   0   0   0   0   0]\n",
            " [  0   0   0   0   0   0   0   0   0   0   0   0   0   0   0   0   0   0\n",
            "    0   0   0   0   0   0   0   0   0   0]\n",
            " [  0   0   0   0   0   0   0   0   0   0   0   0   0   0   0   0   0   0\n",
            "    0   0   0   0   0   0   0   0   0   0]\n",
            " [  0   0   0   0   0   0   0   0   0   0   0   0   0   0   0   0   0   0\n",
            "    0   0   0   0   0   0   0   0   0   0]\n",
            " [  0   0   0   0   0   0   0   0   0   0   0   0   0   0   0   0   0   0\n",
            "    0   0   0   0   0   0   0   0   0   0]\n",
            " [  0   0   0   0   0   0   0   0   0   0   0   0   3  18  18  18 126 136\n",
            "  175  26 166 255 247 127   0   0   0   0]\n",
            " [  0   0   0   0   0   0   0   0  30  36  94 154 170 253 253 253 253 253\n",
            "  225 172 253 242 195  64   0   0   0   0]\n",
            " [  0   0   0   0   0   0   0  49 238 253 253 253 253 253 253 253 253 251\n",
            "   93  82  82  56  39   0   0   0   0   0]\n",
            " [  0   0   0   0   0   0   0  18 219 253 253 253 253 253 198 182 247 241\n",
            "    0   0   0   0   0   0   0   0   0   0]\n",
            " [  0   0   0   0   0   0   0   0  80 156 107 253 253 205  11   0  43 154\n",
            "    0   0   0   0   0   0   0   0   0   0]\n",
            " [  0   0   0   0   0   0   0   0   0  14   1 154 253  90   0   0   0   0\n",
            "    0   0   0   0   0   0   0   0   0   0]\n",
            " [  0   0   0   0   0   0   0   0   0   0   0 139 253 190   2   0   0   0\n",
            "    0   0   0   0   0   0   0   0   0   0]\n",
            " [  0   0   0   0   0   0   0   0   0   0   0  11 190 253  70   0   0   0\n",
            "    0   0   0   0   0   0   0   0   0   0]\n",
            " [  0   0   0   0   0   0   0   0   0   0   0   0  35 241 225 160 108   1\n",
            "    0   0   0   0   0   0   0   0   0   0]\n",
            " [  0   0   0   0   0   0   0   0   0   0   0   0   0  81 240 253 253 119\n",
            "   25   0   0   0   0   0   0   0   0   0]\n",
            " [  0   0   0   0   0   0   0   0   0   0   0   0   0   0  45 186 253 253\n",
            "  150  27   0   0   0   0   0   0   0   0]\n",
            " [  0   0   0   0   0   0   0   0   0   0   0   0   0   0   0  16  93 252\n",
            "  253 187   0   0   0   0   0   0   0   0]\n",
            " [  0   0   0   0   0   0   0   0   0   0   0   0   0   0   0   0   0 249\n",
            "  253 249  64   0   0   0   0   0   0   0]\n",
            " [  0   0   0   0   0   0   0   0   0   0   0   0   0   0  46 130 183 253\n",
            "  253 207   2   0   0   0   0   0   0   0]\n",
            " [  0   0   0   0   0   0   0   0   0   0   0   0  39 148 229 253 253 253\n",
            "  250 182   0   0   0   0   0   0   0   0]\n",
            " [  0   0   0   0   0   0   0   0   0   0  24 114 221 253 253 253 253 201\n",
            "   78   0   0   0   0   0   0   0   0   0]\n",
            " [  0   0   0   0   0   0   0   0  23  66 213 253 253 253 253 198  81   2\n",
            "    0   0   0   0   0   0   0   0   0   0]\n",
            " [  0   0   0   0   0   0  18 171 219 253 253 253 253 195  80   9   0   0\n",
            "    0   0   0   0   0   0   0   0   0   0]\n",
            " [  0   0   0   0  55 172 226 253 253 253 253 244 133  11   0   0   0   0\n",
            "    0   0   0   0   0   0   0   0   0   0]\n",
            " [  0   0   0   0 136 253 253 253 212 135 132  16   0   0   0   0   0   0\n",
            "    0   0   0   0   0   0   0   0   0   0]\n",
            " [  0   0   0   0   0   0   0   0   0   0   0   0   0   0   0   0   0   0\n",
            "    0   0   0   0   0   0   0   0   0   0]\n",
            " [  0   0   0   0   0   0   0   0   0   0   0   0   0   0   0   0   0   0\n",
            "    0   0   0   0   0   0   0   0   0   0]\n",
            " [  0   0   0   0   0   0   0   0   0   0   0   0   0   0   0   0   0   0\n",
            "    0   0   0   0   0   0   0   0   0   0]]\n",
            "y_train 5\n",
            "x_train (60000, 28, 28)\n",
            "y_train (60000,)\n"
          ],
          "name": "stdout"
        }
      ]
    },
    {
      "cell_type": "code",
      "metadata": {
        "colab": {
          "base_uri": "https://localhost:8080/"
        },
        "id": "5cLEKhSwE0mG",
        "outputId": "581df272-8ef9-4612-bd66-e35407174163"
      },
      "source": [
        "image_size=784#28 X28\r\n",
        "x_tr=x_tr.reshape(x_tr.shape[0],image_size)\r\n",
        "x_te=x_te.reshape(x_te.shape[0],image_size)\r\n",
        "print(\"x matrix after reshaping\")\r\n",
        "print(\"x train shape\",x_tr.shape)\r\n",
        "print(\"x test shape\",x_te.shape)\r\n",
        "\r\n",
        "num_classes=10\r\n",
        "y_tr=keras.utils.to_categorical(y_tr,num_classes)\r\n",
        "y_te=keras.utils.to_categorical(y_te,num_classes)\r\n",
        "\r\n",
        "print(\"y after reshape\")\r\n",
        "print(\"y train shape\",y_tr.shape)\r\n",
        "print(\"y test shape\",y_te.shape)\r\n"
      ],
      "execution_count": null,
      "outputs": [
        {
          "output_type": "stream",
          "text": [
            "x matrix after reshaping\n",
            "x train shape (60000, 784)\n",
            "x test shape (10000, 784)\n",
            "y after reshape\n",
            "y train shape (60000, 10)\n",
            "y test shape (10000, 10)\n"
          ],
          "name": "stdout"
        }
      ]
    },
    {
      "cell_type": "code",
      "metadata": {
        "colab": {
          "base_uri": "https://localhost:8080/",
          "height": 248
        },
        "id": "dpjnOVvfFO08",
        "outputId": "cd53f8ca-48d6-4b05-f546-d1659c44766c"
      },
      "source": [
        "for i in  range(64):\r\n",
        "  ax=plt.subplot(8,8,i+1)\r\n",
        "  ax.axis('off')\r\n",
        "  plt.imshow(x_tr_drawing[random.randint(0,x_tr.shape[0])],cmap='Greys')\r\n"
      ],
      "execution_count": null,
      "outputs": [
        {
          "output_type": "display_data",
          "data": {
            "image/png": "[encoded data removed]",
            "text/plain": [
              "<Figure size 432x288 with 64 Axes>"
            ]
          },
          "metadata": {
            "tags": [],
            "needs_background": "light"
          }
        }
      ]
    },
    {
      "cell_type": "code",
      "metadata": {
        "colab": {
          "base_uri": "https://localhost:8080/"
        },
        "id": "TaB6ihlzFaxe",
        "outputId": "49d5b9ce-4ee4-44e5-cda1-a87c24d190b5"
      },
      "source": [
        "model=Sequential()\r\n",
        "model.add(Dense(units=25,activation='sigmoid',input_shape=(image_size,)))\r\n",
        "model.add(Dense(units=num_classes,activation='softmax'))\r\n",
        "model.summary()"
      ],
      "execution_count": null,
      "outputs": [
        {
          "output_type": "stream",
          "text": [
            "Model: \"sequential\"\n",
            "_________________________________________________________________\n",
            "Layer (type)                 Output Shape              Param #   \n",
            "=================================================================\n",
            "dense (Dense)                (None, 25)                19625     \n",
            "_________________________________________________________________\n",
            "dense_1 (Dense)              (None, 10)                260       \n",
            "=================================================================\n",
            "Total params: 19,885\n",
            "Trainable params: 19,885\n",
            "Non-trainable params: 0\n",
            "_________________________________________________________________\n"
          ],
          "name": "stdout"
        }
      ]
    },
    {
      "cell_type": "code",
      "metadata": {
        "colab": {
          "base_uri": "https://localhost:8080/"
        },
        "id": "hJOOwWPGFiec",
        "outputId": "ed57d248-eb01-4296-ff11-4914a99687d2"
      },
      "source": [
        "model.compile(optimizer='sgd',loss='categorical_crossentropy',metrics=['accuracy'])\r\n",
        "history=model.fit(x_tr,y_tr,batch_size=128,epochs=100,verbose=True,validation_split=.1)"
      ],
      "execution_count": null,
      "outputs": [
        {
          "output_type": "stream",
          "text": [
            "Epoch 1/100\n",
            "422/422 [==============================] - 2s 3ms/step - loss: 1.9007 - accuracy: 0.4119 - val_loss: 1.1247 - val_accuracy: 0.7980\n",
            "Epoch 2/100\n",
            "422/422 [==============================] - 1s 2ms/step - loss: 1.0877 - accuracy: 0.7867 - val_loss: 0.8298 - val_accuracy: 0.8525\n",
            "Epoch 3/100\n",
            "422/422 [==============================] - 1s 2ms/step - loss: 0.8343 - accuracy: 0.8348 - val_loss: 0.6570 - val_accuracy: 0.8817\n",
            "Epoch 4/100\n",
            "422/422 [==============================] - 1s 2ms/step - loss: 0.6977 - accuracy: 0.8554 - val_loss: 0.5726 - val_accuracy: 0.8922\n",
            "Epoch 5/100\n",
            "422/422 [==============================] - 1s 2ms/step - loss: 0.6157 - accuracy: 0.8681 - val_loss: 0.5050 - val_accuracy: 0.8980\n",
            "Epoch 6/100\n",
            "422/422 [==============================] - 1s 2ms/step - loss: 0.5575 - accuracy: 0.8742 - val_loss: 0.4675 - val_accuracy: 0.9057\n",
            "Epoch 7/100\n",
            "422/422 [==============================] - 1s 2ms/step - loss: 0.5147 - accuracy: 0.8845 - val_loss: 0.4253 - val_accuracy: 0.9063\n",
            "Epoch 8/100\n",
            "422/422 [==============================] - 1s 2ms/step - loss: 0.4795 - accuracy: 0.8890 - val_loss: 0.4131 - val_accuracy: 0.9063\n",
            "Epoch 9/100\n",
            "422/422 [==============================] - 1s 2ms/step - loss: 0.4608 - accuracy: 0.8872 - val_loss: 0.3816 - val_accuracy: 0.9113\n",
            "Epoch 10/100\n",
            "422/422 [==============================] - 1s 2ms/step - loss: 0.4437 - accuracy: 0.8896 - val_loss: 0.3721 - val_accuracy: 0.9130\n",
            "Epoch 11/100\n",
            "422/422 [==============================] - 1s 2ms/step - loss: 0.4170 - accuracy: 0.8986 - val_loss: 0.3676 - val_accuracy: 0.9122\n",
            "Epoch 12/100\n",
            "422/422 [==============================] - 1s 2ms/step - loss: 0.4127 - accuracy: 0.8969 - val_loss: 0.3588 - val_accuracy: 0.9155\n",
            "Epoch 13/100\n",
            "422/422 [==============================] - 1s 2ms/step - loss: 0.3881 - accuracy: 0.9020 - val_loss: 0.3412 - val_accuracy: 0.9180\n",
            "Epoch 14/100\n",
            "422/422 [==============================] - 1s 2ms/step - loss: 0.3826 - accuracy: 0.8995 - val_loss: 0.3304 - val_accuracy: 0.9185\n",
            "Epoch 15/100\n",
            "422/422 [==============================] - 1s 2ms/step - loss: 0.3752 - accuracy: 0.9035 - val_loss: 0.3271 - val_accuracy: 0.9200\n",
            "Epoch 16/100\n",
            "422/422 [==============================] - 1s 2ms/step - loss: 0.3657 - accuracy: 0.9048 - val_loss: 0.3207 - val_accuracy: 0.9217\n",
            "Epoch 17/100\n",
            "422/422 [==============================] - 1s 2ms/step - loss: 0.3573 - accuracy: 0.9071 - val_loss: 0.3134 - val_accuracy: 0.9202\n",
            "Epoch 18/100\n",
            "422/422 [==============================] - 1s 2ms/step - loss: 0.3498 - accuracy: 0.9096 - val_loss: 0.3109 - val_accuracy: 0.9212\n",
            "Epoch 19/100\n",
            "422/422 [==============================] - 1s 2ms/step - loss: 0.3500 - accuracy: 0.9079 - val_loss: 0.2986 - val_accuracy: 0.9207\n",
            "Epoch 20/100\n",
            "422/422 [==============================] - 1s 2ms/step - loss: 0.3374 - accuracy: 0.9109 - val_loss: 0.2946 - val_accuracy: 0.9270\n",
            "Epoch 21/100\n",
            "422/422 [==============================] - 1s 2ms/step - loss: 0.3324 - accuracy: 0.9111 - val_loss: 0.3040 - val_accuracy: 0.9217\n",
            "Epoch 22/100\n",
            "422/422 [==============================] - 1s 2ms/step - loss: 0.3305 - accuracy: 0.9107 - val_loss: 0.2892 - val_accuracy: 0.9235\n",
            "Epoch 23/100\n",
            "422/422 [==============================] - 1s 2ms/step - loss: 0.3235 - accuracy: 0.9121 - val_loss: 0.2893 - val_accuracy: 0.9235\n",
            "Epoch 24/100\n",
            "422/422 [==============================] - 1s 2ms/step - loss: 0.3260 - accuracy: 0.9109 - val_loss: 0.2797 - val_accuracy: 0.9258\n",
            "Epoch 25/100\n",
            "422/422 [==============================] - 1s 2ms/step - loss: 0.3208 - accuracy: 0.9130 - val_loss: 0.2719 - val_accuracy: 0.9283\n",
            "Epoch 26/100\n",
            "422/422 [==============================] - 1s 2ms/step - loss: 0.3156 - accuracy: 0.9156 - val_loss: 0.2777 - val_accuracy: 0.9262\n",
            "Epoch 27/100\n",
            "422/422 [==============================] - 1s 2ms/step - loss: 0.3114 - accuracy: 0.9143 - val_loss: 0.2729 - val_accuracy: 0.9298\n",
            "Epoch 28/100\n",
            "422/422 [==============================] - 1s 2ms/step - loss: 0.2991 - accuracy: 0.9186 - val_loss: 0.2700 - val_accuracy: 0.9258\n",
            "Epoch 29/100\n",
            "422/422 [==============================] - 1s 2ms/step - loss: 0.3022 - accuracy: 0.9170 - val_loss: 0.2709 - val_accuracy: 0.9263\n",
            "Epoch 30/100\n",
            "422/422 [==============================] - 1s 2ms/step - loss: 0.3017 - accuracy: 0.9178 - val_loss: 0.2666 - val_accuracy: 0.9313\n",
            "Epoch 31/100\n",
            "422/422 [==============================] - 1s 2ms/step - loss: 0.3001 - accuracy: 0.9156 - val_loss: 0.2652 - val_accuracy: 0.9260\n",
            "Epoch 32/100\n",
            "422/422 [==============================] - 1s 2ms/step - loss: 0.2962 - accuracy: 0.9182 - val_loss: 0.2700 - val_accuracy: 0.9268\n",
            "Epoch 33/100\n",
            "422/422 [==============================] - 1s 2ms/step - loss: 0.2953 - accuracy: 0.9195 - val_loss: 0.2542 - val_accuracy: 0.9307\n",
            "Epoch 34/100\n",
            "422/422 [==============================] - 1s 2ms/step - loss: 0.2917 - accuracy: 0.9188 - val_loss: 0.2605 - val_accuracy: 0.9283\n",
            "Epoch 35/100\n",
            "422/422 [==============================] - 1s 2ms/step - loss: 0.2955 - accuracy: 0.9194 - val_loss: 0.2594 - val_accuracy: 0.9268\n",
            "Epoch 36/100\n",
            "422/422 [==============================] - 1s 2ms/step - loss: 0.2899 - accuracy: 0.9187 - val_loss: 0.2518 - val_accuracy: 0.9307\n",
            "Epoch 37/100\n",
            "422/422 [==============================] - 1s 2ms/step - loss: 0.2880 - accuracy: 0.9181 - val_loss: 0.2665 - val_accuracy: 0.9255\n",
            "Epoch 38/100\n",
            "422/422 [==============================] - 1s 2ms/step - loss: 0.2827 - accuracy: 0.9202 - val_loss: 0.2508 - val_accuracy: 0.9320\n",
            "Epoch 39/100\n",
            "422/422 [==============================] - 1s 2ms/step - loss: 0.2855 - accuracy: 0.9200 - val_loss: 0.2482 - val_accuracy: 0.9315\n",
            "Epoch 40/100\n",
            "422/422 [==============================] - 1s 2ms/step - loss: 0.2771 - accuracy: 0.9236 - val_loss: 0.2433 - val_accuracy: 0.9343\n",
            "Epoch 41/100\n",
            "422/422 [==============================] - 1s 2ms/step - loss: 0.2763 - accuracy: 0.9229 - val_loss: 0.2408 - val_accuracy: 0.9312\n",
            "Epoch 42/100\n",
            "422/422 [==============================] - 1s 2ms/step - loss: 0.2836 - accuracy: 0.9199 - val_loss: 0.2398 - val_accuracy: 0.9328\n",
            "Epoch 43/100\n",
            "422/422 [==============================] - 1s 2ms/step - loss: 0.2827 - accuracy: 0.9203 - val_loss: 0.2425 - val_accuracy: 0.9343\n",
            "Epoch 44/100\n",
            "422/422 [==============================] - 1s 2ms/step - loss: 0.2709 - accuracy: 0.9235 - val_loss: 0.2415 - val_accuracy: 0.9337\n",
            "Epoch 45/100\n",
            "422/422 [==============================] - 1s 2ms/step - loss: 0.2706 - accuracy: 0.9245 - val_loss: 0.2550 - val_accuracy: 0.9315\n",
            "Epoch 46/100\n",
            "422/422 [==============================] - 1s 2ms/step - loss: 0.2713 - accuracy: 0.9228 - val_loss: 0.2423 - val_accuracy: 0.9347\n",
            "Epoch 47/100\n",
            "422/422 [==============================] - 1s 2ms/step - loss: 0.2640 - accuracy: 0.9252 - val_loss: 0.2381 - val_accuracy: 0.9337\n",
            "Epoch 48/100\n",
            "422/422 [==============================] - 1s 2ms/step - loss: 0.2644 - accuracy: 0.9253 - val_loss: 0.2367 - val_accuracy: 0.9333\n",
            "Epoch 49/100\n",
            "422/422 [==============================] - 1s 2ms/step - loss: 0.2630 - accuracy: 0.9263 - val_loss: 0.2357 - val_accuracy: 0.9348\n",
            "Epoch 50/100\n",
            "422/422 [==============================] - 1s 2ms/step - loss: 0.2649 - accuracy: 0.9241 - val_loss: 0.2302 - val_accuracy: 0.9322\n",
            "Epoch 51/100\n",
            "422/422 [==============================] - 1s 2ms/step - loss: 0.2611 - accuracy: 0.9258 - val_loss: 0.2356 - val_accuracy: 0.9327\n",
            "Epoch 52/100\n",
            "422/422 [==============================] - 1s 2ms/step - loss: 0.2637 - accuracy: 0.9243 - val_loss: 0.2326 - val_accuracy: 0.9340\n",
            "Epoch 53/100\n",
            "422/422 [==============================] - 1s 2ms/step - loss: 0.2545 - accuracy: 0.9279 - val_loss: 0.2270 - val_accuracy: 0.9357\n",
            "Epoch 54/100\n",
            "422/422 [==============================] - 1s 2ms/step - loss: 0.2497 - accuracy: 0.9294 - val_loss: 0.2350 - val_accuracy: 0.9335\n",
            "Epoch 55/100\n",
            "422/422 [==============================] - 1s 2ms/step - loss: 0.2510 - accuracy: 0.9281 - val_loss: 0.2254 - val_accuracy: 0.9372\n",
            "Epoch 56/100\n",
            "422/422 [==============================] - 1s 2ms/step - loss: 0.2513 - accuracy: 0.9285 - val_loss: 0.2351 - val_accuracy: 0.9328\n",
            "Epoch 57/100\n",
            "422/422 [==============================] - 1s 2ms/step - loss: 0.2528 - accuracy: 0.9280 - val_loss: 0.2230 - val_accuracy: 0.9373\n",
            "Epoch 58/100\n",
            "422/422 [==============================] - 1s 2ms/step - loss: 0.2467 - accuracy: 0.9292 - val_loss: 0.2266 - val_accuracy: 0.9375\n",
            "Epoch 59/100\n",
            "422/422 [==============================] - 1s 2ms/step - loss: 0.2465 - accuracy: 0.9293 - val_loss: 0.2361 - val_accuracy: 0.9365\n",
            "Epoch 60/100\n",
            "422/422 [==============================] - 1s 2ms/step - loss: 0.2520 - accuracy: 0.9271 - val_loss: 0.2255 - val_accuracy: 0.9367\n",
            "Epoch 61/100\n",
            "422/422 [==============================] - 1s 2ms/step - loss: 0.2440 - accuracy: 0.9296 - val_loss: 0.2251 - val_accuracy: 0.9363\n",
            "Epoch 62/100\n",
            "422/422 [==============================] - 1s 2ms/step - loss: 0.2427 - accuracy: 0.9304 - val_loss: 0.2230 - val_accuracy: 0.9368\n",
            "Epoch 63/100\n",
            "422/422 [==============================] - 1s 2ms/step - loss: 0.2359 - accuracy: 0.9315 - val_loss: 0.2286 - val_accuracy: 0.9347\n",
            "Epoch 64/100\n",
            "422/422 [==============================] - 1s 2ms/step - loss: 0.2410 - accuracy: 0.9305 - val_loss: 0.2248 - val_accuracy: 0.9328\n",
            "Epoch 65/100\n",
            "422/422 [==============================] - 1s 2ms/step - loss: 0.2432 - accuracy: 0.9304 - val_loss: 0.2279 - val_accuracy: 0.9352\n",
            "Epoch 66/100\n",
            "422/422 [==============================] - 1s 2ms/step - loss: 0.2342 - accuracy: 0.9330 - val_loss: 0.2212 - val_accuracy: 0.9392\n",
            "Epoch 67/100\n",
            "422/422 [==============================] - 1s 2ms/step - loss: 0.2385 - accuracy: 0.9312 - val_loss: 0.2230 - val_accuracy: 0.9373\n",
            "Epoch 68/100\n",
            "422/422 [==============================] - 1s 2ms/step - loss: 0.2419 - accuracy: 0.9298 - val_loss: 0.2080 - val_accuracy: 0.9427\n",
            "Epoch 69/100\n",
            "422/422 [==============================] - 1s 2ms/step - loss: 0.2324 - accuracy: 0.9329 - val_loss: 0.2173 - val_accuracy: 0.9400\n",
            "Epoch 70/100\n",
            "422/422 [==============================] - 1s 2ms/step - loss: 0.2284 - accuracy: 0.9358 - val_loss: 0.2152 - val_accuracy: 0.9380\n",
            "Epoch 71/100\n",
            "422/422 [==============================] - 1s 2ms/step - loss: 0.2361 - accuracy: 0.9336 - val_loss: 0.2193 - val_accuracy: 0.9350\n",
            "Epoch 72/100\n",
            "422/422 [==============================] - 1s 2ms/step - loss: 0.2363 - accuracy: 0.9326 - val_loss: 0.2178 - val_accuracy: 0.9382\n",
            "Epoch 73/100\n",
            "422/422 [==============================] - 1s 2ms/step - loss: 0.2331 - accuracy: 0.9328 - val_loss: 0.2143 - val_accuracy: 0.9400\n",
            "Epoch 74/100\n",
            "422/422 [==============================] - 1s 2ms/step - loss: 0.2398 - accuracy: 0.9315 - val_loss: 0.2166 - val_accuracy: 0.9367\n",
            "Epoch 75/100\n",
            "422/422 [==============================] - 1s 2ms/step - loss: 0.2346 - accuracy: 0.9307 - val_loss: 0.2126 - val_accuracy: 0.9392\n",
            "Epoch 76/100\n",
            "422/422 [==============================] - 1s 2ms/step - loss: 0.2290 - accuracy: 0.9327 - val_loss: 0.2156 - val_accuracy: 0.9407\n",
            "Epoch 77/100\n",
            "422/422 [==============================] - 1s 2ms/step - loss: 0.2287 - accuracy: 0.9333 - val_loss: 0.2208 - val_accuracy: 0.9400\n",
            "Epoch 78/100\n",
            "422/422 [==============================] - 1s 2ms/step - loss: 0.2367 - accuracy: 0.9314 - val_loss: 0.2129 - val_accuracy: 0.9427\n",
            "Epoch 79/100\n",
            "422/422 [==============================] - 1s 2ms/step - loss: 0.2347 - accuracy: 0.9320 - val_loss: 0.2282 - val_accuracy: 0.9355\n",
            "Epoch 80/100\n",
            "422/422 [==============================] - 1s 2ms/step - loss: 0.2349 - accuracy: 0.9312 - val_loss: 0.2141 - val_accuracy: 0.9398\n",
            "Epoch 81/100\n",
            "422/422 [==============================] - 1s 2ms/step - loss: 0.2343 - accuracy: 0.9314 - val_loss: 0.2100 - val_accuracy: 0.9405\n",
            "Epoch 82/100\n",
            "422/422 [==============================] - 1s 2ms/step - loss: 0.2298 - accuracy: 0.9331 - val_loss: 0.2069 - val_accuracy: 0.9445\n",
            "Epoch 83/100\n",
            "422/422 [==============================] - 1s 2ms/step - loss: 0.2338 - accuracy: 0.9310 - val_loss: 0.2119 - val_accuracy: 0.9403\n",
            "Epoch 84/100\n",
            "422/422 [==============================] - 1s 2ms/step - loss: 0.2287 - accuracy: 0.9333 - val_loss: 0.2067 - val_accuracy: 0.9402\n",
            "Epoch 85/100\n",
            "422/422 [==============================] - 1s 2ms/step - loss: 0.2263 - accuracy: 0.9335 - val_loss: 0.2132 - val_accuracy: 0.9393\n",
            "Epoch 86/100\n",
            "422/422 [==============================] - 1s 2ms/step - loss: 0.2332 - accuracy: 0.9308 - val_loss: 0.2180 - val_accuracy: 0.9360\n",
            "Epoch 87/100\n",
            "422/422 [==============================] - 1s 2ms/step - loss: 0.2358 - accuracy: 0.9302 - val_loss: 0.2045 - val_accuracy: 0.9400\n",
            "Epoch 88/100\n",
            "422/422 [==============================] - 1s 2ms/step - loss: 0.2222 - accuracy: 0.9352 - val_loss: 0.2151 - val_accuracy: 0.9405\n",
            "Epoch 89/100\n",
            "422/422 [==============================] - 1s 2ms/step - loss: 0.2280 - accuracy: 0.9342 - val_loss: 0.2104 - val_accuracy: 0.9383\n",
            "Epoch 90/100\n",
            "422/422 [==============================] - 1s 2ms/step - loss: 0.2126 - accuracy: 0.9380 - val_loss: 0.2099 - val_accuracy: 0.9408\n",
            "Epoch 91/100\n",
            "422/422 [==============================] - 1s 2ms/step - loss: 0.2154 - accuracy: 0.9377 - val_loss: 0.2039 - val_accuracy: 0.9430\n",
            "Epoch 92/100\n",
            "422/422 [==============================] - 1s 2ms/step - loss: 0.2208 - accuracy: 0.9365 - val_loss: 0.2073 - val_accuracy: 0.9412\n",
            "Epoch 93/100\n",
            "422/422 [==============================] - 1s 2ms/step - loss: 0.2188 - accuracy: 0.9385 - val_loss: 0.2030 - val_accuracy: 0.9418\n",
            "Epoch 94/100\n",
            "422/422 [==============================] - 1s 2ms/step - loss: 0.2209 - accuracy: 0.9367 - val_loss: 0.2086 - val_accuracy: 0.9422\n",
            "Epoch 95/100\n",
            "422/422 [==============================] - 1s 2ms/step - loss: 0.2188 - accuracy: 0.9384 - val_loss: 0.2026 - val_accuracy: 0.9400\n",
            "Epoch 96/100\n",
            "422/422 [==============================] - 1s 2ms/step - loss: 0.2143 - accuracy: 0.9375 - val_loss: 0.2097 - val_accuracy: 0.9408\n",
            "Epoch 97/100\n",
            "422/422 [==============================] - 1s 2ms/step - loss: 0.2166 - accuracy: 0.9383 - val_loss: 0.2079 - val_accuracy: 0.9423\n",
            "Epoch 98/100\n",
            "422/422 [==============================] - 1s 2ms/step - loss: 0.2171 - accuracy: 0.9360 - val_loss: 0.2057 - val_accuracy: 0.9408\n",
            "Epoch 99/100\n",
            "422/422 [==============================] - 1s 2ms/step - loss: 0.2267 - accuracy: 0.9336 - val_loss: 0.1992 - val_accuracy: 0.9427\n",
            "Epoch 100/100\n",
            "422/422 [==============================] - 1s 2ms/step - loss: 0.2127 - accuracy: 0.9372 - val_loss: 0.2108 - val_accuracy: 0.9390\n"
          ],
          "name": "stdout"
        }
      ]
    },
    {
      "cell_type": "code",
      "metadata": {
        "colab": {
          "base_uri": "https://localhost:8080/"
        },
        "id": "gfl_p_D6FnBF",
        "outputId": "8d61cf90-8c12-4e2f-bcff-9bbc5f24b286"
      },
      "source": [
        "loss,accuracy=model.evaluate(x_te,y_te,verbose=True)\r\n"
      ],
      "execution_count": null,
      "outputs": [
        {
          "output_type": "stream",
          "text": [
            "313/313 [==============================] - 0s 1ms/step - loss: 0.2501 - accuracy: 0.9259\n"
          ],
          "name": "stdout"
        }
      ]
    },
    {
      "cell_type": "code",
      "metadata": {
        "colab": {
          "base_uri": "https://localhost:8080/",
          "height": 295
        },
        "id": "RRSbLuN0FrzN",
        "outputId": "69278e1a-223d-4ca0-b783-ed3146deb5b3"
      },
      "source": [
        "plt.plot(history.history['accuracy'])\r\n",
        "plt.plot(history.history['val_accuracy'])\r\n",
        "plt.title('model_accuracy')\r\n",
        "plt.ylabel('accuracy')\r\n",
        "plt.xlabel('epoch')\r\n",
        "plt.legend(['training','validation'],loc='best')\r\n",
        "plt.show()"
      ],
      "execution_count": null,
      "outputs": [
        {
          "output_type": "display_data",
          "data": {
            "image/png": "[encoded data removed]",
            "text/plain": [
              "<Figure size 432x288 with 1 Axes>"
            ]
          },
          "metadata": {
            "tags": [],
            "needs_background": "light"
          }
        }
      ]
    },
    {
      "cell_type": "code",
      "metadata": {
        "colab": {
          "base_uri": "https://localhost:8080/",
          "height": 295
        },
        "id": "sWujXBXLFuOP",
        "outputId": "c2e450ca-92e4-40e8-eda8-5290cf92ace4"
      },
      "source": [
        "plt.plot(history.history['loss'])\r\n",
        "plt.plot(history.history['val_loss'])\r\n",
        "plt.title('model_loss')\r\n",
        "plt.ylabel('loss')\r\n",
        "plt.xlabel('epoch')\r\n",
        "plt.legend(['training','validation'],loc='best')\r\n",
        "plt.show()\r\n"
      ],
      "execution_count": null,
      "outputs": [
        {
          "output_type": "display_data",
          "data": {
            "image/png": "[encoded data removed]",
            "text/plain": [
              "<Figure size 432x288 with 1 Axes>"
            ]
          },
          "metadata": {
            "tags": [],
            "needs_background": "light"
          }
        }
      ]
    },
    {
      "cell_type": "code",
      "metadata": {
        "colab": {
          "base_uri": "https://localhost:8080/"
        },
        "id": "W0rUa_MdFx4o",
        "outputId": "ec90e29c-31b7-4f8f-80ef-206a6f133319"
      },
      "source": [
        "model1=Sequential()\r\n",
        "model1.add(Dense(units=50,activation='sigmoid',input_shape=(image_size,)))\r\n",
        "model1.add(Dense(units=num_classes,activation='softmax'))\r\n",
        "model1.summary()"
      ],
      "execution_count": null,
      "outputs": [
        {
          "output_type": "stream",
          "text": [
            "Model: \"sequential_1\"\n",
            "_________________________________________________________________\n",
            "Layer (type)                 Output Shape              Param #   \n",
            "=================================================================\n",
            "dense_2 (Dense)              (None, 50)                39250     \n",
            "_________________________________________________________________\n",
            "dense_3 (Dense)              (None, 10)                510       \n",
            "=================================================================\n",
            "Total params: 39,760\n",
            "Trainable params: 39,760\n",
            "Non-trainable params: 0\n",
            "_________________________________________________________________\n"
          ],
          "name": "stdout"
        }
      ]
    },
    {
      "cell_type": "code",
      "metadata": {
        "colab": {
          "base_uri": "https://localhost:8080/"
        },
        "id": "fOVW-s4oGlPY",
        "outputId": "63a5c309-c9e8-4f4f-e872-525d5c7828b7"
      },
      "source": [
        "model1.compile(optimizer='sgd',loss='categorical_crossentropy',metrics=['accuracy'])\r\n",
        "history=model1.fit(x_tr,y_tr,batch_size=128,epochs=100,verbose=True,validation_split=.1)"
      ],
      "execution_count": null,
      "outputs": [
        {
          "output_type": "stream",
          "text": [
            "Epoch 1/100\n",
            "422/422 [==============================] - 1s 3ms/step - loss: 1.6495 - accuracy: 0.5178 - val_loss: 0.8032 - val_accuracy: 0.8462\n",
            "Epoch 2/100\n",
            "422/422 [==============================] - 1s 2ms/step - loss: 0.7917 - accuracy: 0.8301 - val_loss: 0.5665 - val_accuracy: 0.8893\n",
            "Epoch 3/100\n",
            "422/422 [==============================] - 1s 2ms/step - loss: 0.6034 - accuracy: 0.8666 - val_loss: 0.4600 - val_accuracy: 0.9013\n",
            "Epoch 4/100\n",
            "422/422 [==============================] - 1s 2ms/step - loss: 0.5067 - accuracy: 0.8813 - val_loss: 0.4035 - val_accuracy: 0.9120\n",
            "Epoch 5/100\n",
            "422/422 [==============================] - 1s 3ms/step - loss: 0.4453 - accuracy: 0.8946 - val_loss: 0.3651 - val_accuracy: 0.9165\n",
            "Epoch 6/100\n",
            "422/422 [==============================] - 1s 2ms/step - loss: 0.4132 - accuracy: 0.8981 - val_loss: 0.3363 - val_accuracy: 0.9227\n",
            "Epoch 7/100\n",
            "422/422 [==============================] - 1s 2ms/step - loss: 0.3829 - accuracy: 0.9042 - val_loss: 0.3296 - val_accuracy: 0.9222\n",
            "Epoch 8/100\n",
            "422/422 [==============================] - 1s 2ms/step - loss: 0.3601 - accuracy: 0.9096 - val_loss: 0.3023 - val_accuracy: 0.9260\n",
            "Epoch 9/100\n",
            "422/422 [==============================] - 1s 2ms/step - loss: 0.3434 - accuracy: 0.9117 - val_loss: 0.2837 - val_accuracy: 0.9310\n",
            "Epoch 10/100\n",
            "422/422 [==============================] - 1s 2ms/step - loss: 0.3316 - accuracy: 0.9136 - val_loss: 0.2780 - val_accuracy: 0.9307\n",
            "Epoch 11/100\n",
            "422/422 [==============================] - 1s 2ms/step - loss: 0.3224 - accuracy: 0.9177 - val_loss: 0.2683 - val_accuracy: 0.9332\n",
            "Epoch 12/100\n",
            "422/422 [==============================] - 1s 2ms/step - loss: 0.3072 - accuracy: 0.9186 - val_loss: 0.2644 - val_accuracy: 0.9290\n",
            "Epoch 13/100\n",
            "422/422 [==============================] - 1s 2ms/step - loss: 0.2930 - accuracy: 0.9231 - val_loss: 0.2519 - val_accuracy: 0.9350\n",
            "Epoch 14/100\n",
            "422/422 [==============================] - 1s 2ms/step - loss: 0.2806 - accuracy: 0.9259 - val_loss: 0.2453 - val_accuracy: 0.9383\n",
            "Epoch 15/100\n",
            "422/422 [==============================] - 1s 2ms/step - loss: 0.2842 - accuracy: 0.9242 - val_loss: 0.2473 - val_accuracy: 0.9367\n",
            "Epoch 16/100\n",
            "422/422 [==============================] - 1s 2ms/step - loss: 0.2801 - accuracy: 0.9243 - val_loss: 0.2478 - val_accuracy: 0.9362\n",
            "Epoch 17/100\n",
            "422/422 [==============================] - 1s 2ms/step - loss: 0.2747 - accuracy: 0.9251 - val_loss: 0.2396 - val_accuracy: 0.9393\n",
            "Epoch 18/100\n",
            "422/422 [==============================] - 1s 2ms/step - loss: 0.2697 - accuracy: 0.9259 - val_loss: 0.2340 - val_accuracy: 0.9412\n",
            "Epoch 19/100\n",
            "422/422 [==============================] - 1s 2ms/step - loss: 0.2589 - accuracy: 0.9298 - val_loss: 0.2230 - val_accuracy: 0.9413\n",
            "Epoch 20/100\n",
            "422/422 [==============================] - 1s 2ms/step - loss: 0.2529 - accuracy: 0.9312 - val_loss: 0.2237 - val_accuracy: 0.9412\n",
            "Epoch 21/100\n",
            "422/422 [==============================] - 1s 2ms/step - loss: 0.2485 - accuracy: 0.9307 - val_loss: 0.2276 - val_accuracy: 0.9397\n",
            "Epoch 22/100\n",
            "422/422 [==============================] - 1s 2ms/step - loss: 0.2460 - accuracy: 0.9323 - val_loss: 0.2157 - val_accuracy: 0.9408\n",
            "Epoch 23/100\n",
            "422/422 [==============================] - 1s 2ms/step - loss: 0.2411 - accuracy: 0.9325 - val_loss: 0.2212 - val_accuracy: 0.9422\n",
            "Epoch 24/100\n",
            "422/422 [==============================] - 1s 2ms/step - loss: 0.2424 - accuracy: 0.9342 - val_loss: 0.2144 - val_accuracy: 0.9410\n",
            "Epoch 25/100\n",
            "422/422 [==============================] - 1s 2ms/step - loss: 0.2424 - accuracy: 0.9331 - val_loss: 0.2144 - val_accuracy: 0.9432\n",
            "Epoch 26/100\n",
            "422/422 [==============================] - 1s 2ms/step - loss: 0.2344 - accuracy: 0.9356 - val_loss: 0.2116 - val_accuracy: 0.9425\n",
            "Epoch 27/100\n",
            "422/422 [==============================] - 1s 2ms/step - loss: 0.2329 - accuracy: 0.9357 - val_loss: 0.2129 - val_accuracy: 0.9428\n",
            "Epoch 28/100\n",
            "422/422 [==============================] - 1s 2ms/step - loss: 0.2291 - accuracy: 0.9370 - val_loss: 0.2039 - val_accuracy: 0.9447\n",
            "Epoch 29/100\n",
            "422/422 [==============================] - 1s 2ms/step - loss: 0.2274 - accuracy: 0.9360 - val_loss: 0.2000 - val_accuracy: 0.9453\n",
            "Epoch 30/100\n",
            "422/422 [==============================] - 1s 2ms/step - loss: 0.2201 - accuracy: 0.9381 - val_loss: 0.2013 - val_accuracy: 0.9443\n",
            "Epoch 31/100\n",
            "422/422 [==============================] - 1s 2ms/step - loss: 0.2246 - accuracy: 0.9366 - val_loss: 0.1984 - val_accuracy: 0.9460\n",
            "Epoch 32/100\n",
            "422/422 [==============================] - 1s 2ms/step - loss: 0.2188 - accuracy: 0.9399 - val_loss: 0.1990 - val_accuracy: 0.9438\n",
            "Epoch 33/100\n",
            "422/422 [==============================] - 1s 2ms/step - loss: 0.2214 - accuracy: 0.9366 - val_loss: 0.2003 - val_accuracy: 0.9472\n",
            "Epoch 34/100\n",
            "422/422 [==============================] - 1s 2ms/step - loss: 0.2196 - accuracy: 0.9389 - val_loss: 0.1966 - val_accuracy: 0.9483\n",
            "Epoch 35/100\n",
            "422/422 [==============================] - 1s 2ms/step - loss: 0.2133 - accuracy: 0.9392 - val_loss: 0.1940 - val_accuracy: 0.9488\n",
            "Epoch 36/100\n",
            "422/422 [==============================] - 1s 2ms/step - loss: 0.2092 - accuracy: 0.9413 - val_loss: 0.1855 - val_accuracy: 0.9533\n",
            "Epoch 37/100\n",
            "422/422 [==============================] - 1s 2ms/step - loss: 0.2106 - accuracy: 0.9402 - val_loss: 0.1972 - val_accuracy: 0.9470\n",
            "Epoch 38/100\n",
            "422/422 [==============================] - 1s 2ms/step - loss: 0.2094 - accuracy: 0.9416 - val_loss: 0.1817 - val_accuracy: 0.9512\n",
            "Epoch 39/100\n",
            "422/422 [==============================] - 1s 2ms/step - loss: 0.2003 - accuracy: 0.9442 - val_loss: 0.1860 - val_accuracy: 0.9513\n",
            "Epoch 40/100\n",
            "422/422 [==============================] - 1s 2ms/step - loss: 0.2036 - accuracy: 0.9432 - val_loss: 0.1888 - val_accuracy: 0.9490\n",
            "Epoch 41/100\n",
            "422/422 [==============================] - 1s 2ms/step - loss: 0.1944 - accuracy: 0.9460 - val_loss: 0.1915 - val_accuracy: 0.9480\n",
            "Epoch 42/100\n",
            "422/422 [==============================] - 1s 2ms/step - loss: 0.2033 - accuracy: 0.9419 - val_loss: 0.1853 - val_accuracy: 0.9502\n",
            "Epoch 43/100\n",
            "422/422 [==============================] - 1s 2ms/step - loss: 0.1971 - accuracy: 0.9452 - val_loss: 0.1770 - val_accuracy: 0.9532\n",
            "Epoch 44/100\n",
            "422/422 [==============================] - 1s 2ms/step - loss: 0.1951 - accuracy: 0.9460 - val_loss: 0.1850 - val_accuracy: 0.9483\n",
            "Epoch 45/100\n",
            "422/422 [==============================] - 1s 2ms/step - loss: 0.1940 - accuracy: 0.9461 - val_loss: 0.1798 - val_accuracy: 0.9498\n",
            "Epoch 46/100\n",
            "422/422 [==============================] - 1s 2ms/step - loss: 0.1936 - accuracy: 0.9474 - val_loss: 0.1790 - val_accuracy: 0.9487\n",
            "Epoch 47/100\n",
            "422/422 [==============================] - 1s 2ms/step - loss: 0.1856 - accuracy: 0.9491 - val_loss: 0.1766 - val_accuracy: 0.9525\n",
            "Epoch 48/100\n",
            "422/422 [==============================] - 1s 2ms/step - loss: 0.1885 - accuracy: 0.9491 - val_loss: 0.1807 - val_accuracy: 0.9502\n",
            "Epoch 49/100\n",
            "422/422 [==============================] - 1s 2ms/step - loss: 0.1884 - accuracy: 0.9472 - val_loss: 0.1744 - val_accuracy: 0.9525\n",
            "Epoch 50/100\n",
            "422/422 [==============================] - 1s 2ms/step - loss: 0.1888 - accuracy: 0.9474 - val_loss: 0.1740 - val_accuracy: 0.9538\n",
            "Epoch 51/100\n",
            "422/422 [==============================] - 1s 2ms/step - loss: 0.1810 - accuracy: 0.9484 - val_loss: 0.1738 - val_accuracy: 0.9532\n",
            "Epoch 52/100\n",
            "422/422 [==============================] - 1s 2ms/step - loss: 0.1823 - accuracy: 0.9492 - val_loss: 0.1749 - val_accuracy: 0.9518\n",
            "Epoch 53/100\n",
            "422/422 [==============================] - 1s 2ms/step - loss: 0.1837 - accuracy: 0.9478 - val_loss: 0.1807 - val_accuracy: 0.9523\n",
            "Epoch 54/100\n",
            "422/422 [==============================] - 1s 2ms/step - loss: 0.1824 - accuracy: 0.9483 - val_loss: 0.1695 - val_accuracy: 0.9525\n",
            "Epoch 55/100\n",
            "422/422 [==============================] - 1s 2ms/step - loss: 0.1806 - accuracy: 0.9488 - val_loss: 0.1664 - val_accuracy: 0.9553\n",
            "Epoch 56/100\n",
            "422/422 [==============================] - 1s 2ms/step - loss: 0.1791 - accuracy: 0.9488 - val_loss: 0.1748 - val_accuracy: 0.9523\n",
            "Epoch 57/100\n",
            "422/422 [==============================] - 1s 2ms/step - loss: 0.1855 - accuracy: 0.9478 - val_loss: 0.1683 - val_accuracy: 0.9540\n",
            "Epoch 58/100\n",
            "422/422 [==============================] - 1s 2ms/step - loss: 0.1754 - accuracy: 0.9506 - val_loss: 0.1671 - val_accuracy: 0.9532\n",
            "Epoch 59/100\n",
            "422/422 [==============================] - 1s 2ms/step - loss: 0.1746 - accuracy: 0.9511 - val_loss: 0.1680 - val_accuracy: 0.9527\n",
            "Epoch 60/100\n",
            "422/422 [==============================] - 1s 2ms/step - loss: 0.1776 - accuracy: 0.9503 - val_loss: 0.1693 - val_accuracy: 0.9518\n",
            "Epoch 61/100\n",
            "422/422 [==============================] - 1s 2ms/step - loss: 0.1741 - accuracy: 0.9513 - val_loss: 0.1671 - val_accuracy: 0.9532\n",
            "Epoch 62/100\n",
            "422/422 [==============================] - 1s 2ms/step - loss: 0.1718 - accuracy: 0.9520 - val_loss: 0.1671 - val_accuracy: 0.9540\n",
            "Epoch 63/100\n",
            "422/422 [==============================] - 1s 2ms/step - loss: 0.1727 - accuracy: 0.9512 - val_loss: 0.1687 - val_accuracy: 0.9527\n",
            "Epoch 64/100\n",
            "422/422 [==============================] - 1s 2ms/step - loss: 0.1716 - accuracy: 0.9523 - val_loss: 0.1670 - val_accuracy: 0.9548\n",
            "Epoch 65/100\n",
            "422/422 [==============================] - 1s 2ms/step - loss: 0.1689 - accuracy: 0.9534 - val_loss: 0.1652 - val_accuracy: 0.9547\n",
            "Epoch 66/100\n",
            "422/422 [==============================] - 1s 2ms/step - loss: 0.1701 - accuracy: 0.9530 - val_loss: 0.1608 - val_accuracy: 0.9558\n",
            "Epoch 67/100\n",
            "422/422 [==============================] - 1s 2ms/step - loss: 0.1684 - accuracy: 0.9521 - val_loss: 0.1646 - val_accuracy: 0.9555\n",
            "Epoch 68/100\n",
            "422/422 [==============================] - 1s 2ms/step - loss: 0.1633 - accuracy: 0.9550 - val_loss: 0.1597 - val_accuracy: 0.9550\n",
            "Epoch 69/100\n",
            "422/422 [==============================] - 1s 2ms/step - loss: 0.1630 - accuracy: 0.9552 - val_loss: 0.1675 - val_accuracy: 0.9523\n",
            "Epoch 70/100\n",
            "422/422 [==============================] - 1s 2ms/step - loss: 0.1644 - accuracy: 0.9543 - val_loss: 0.1624 - val_accuracy: 0.9543\n",
            "Epoch 71/100\n",
            "422/422 [==============================] - 1s 2ms/step - loss: 0.1575 - accuracy: 0.9567 - val_loss: 0.1744 - val_accuracy: 0.9512\n",
            "Epoch 72/100\n",
            "422/422 [==============================] - 1s 2ms/step - loss: 0.1596 - accuracy: 0.9550 - val_loss: 0.1696 - val_accuracy: 0.9510\n",
            "Epoch 73/100\n",
            "422/422 [==============================] - 1s 2ms/step - loss: 0.1532 - accuracy: 0.9575 - val_loss: 0.1694 - val_accuracy: 0.9525\n",
            "Epoch 74/100\n",
            "422/422 [==============================] - 1s 2ms/step - loss: 0.1590 - accuracy: 0.9559 - val_loss: 0.1618 - val_accuracy: 0.9532\n",
            "Epoch 75/100\n",
            "422/422 [==============================] - 1s 2ms/step - loss: 0.1533 - accuracy: 0.9579 - val_loss: 0.1661 - val_accuracy: 0.9538\n",
            "Epoch 76/100\n",
            "422/422 [==============================] - 1s 2ms/step - loss: 0.1541 - accuracy: 0.9577 - val_loss: 0.1601 - val_accuracy: 0.9542\n",
            "Epoch 77/100\n",
            "422/422 [==============================] - 1s 2ms/step - loss: 0.1542 - accuracy: 0.9570 - val_loss: 0.1619 - val_accuracy: 0.9535\n",
            "Epoch 78/100\n",
            "422/422 [==============================] - 1s 2ms/step - loss: 0.1604 - accuracy: 0.9559 - val_loss: 0.1548 - val_accuracy: 0.9575\n",
            "Epoch 79/100\n",
            "422/422 [==============================] - 1s 2ms/step - loss: 0.1555 - accuracy: 0.9565 - val_loss: 0.1560 - val_accuracy: 0.9570\n",
            "Epoch 80/100\n",
            "422/422 [==============================] - 1s 2ms/step - loss: 0.1539 - accuracy: 0.9576 - val_loss: 0.1632 - val_accuracy: 0.9527\n",
            "Epoch 81/100\n",
            "422/422 [==============================] - 1s 3ms/step - loss: 0.1550 - accuracy: 0.9572 - val_loss: 0.1560 - val_accuracy: 0.9583\n",
            "Epoch 82/100\n",
            "422/422 [==============================] - 1s 2ms/step - loss: 0.1503 - accuracy: 0.9588 - val_loss: 0.1587 - val_accuracy: 0.9550\n",
            "Epoch 83/100\n",
            "422/422 [==============================] - 1s 2ms/step - loss: 0.1541 - accuracy: 0.9579 - val_loss: 0.1525 - val_accuracy: 0.9575\n",
            "Epoch 84/100\n",
            "422/422 [==============================] - 1s 2ms/step - loss: 0.1535 - accuracy: 0.9574 - val_loss: 0.1581 - val_accuracy: 0.9537\n",
            "Epoch 85/100\n",
            "422/422 [==============================] - 1s 2ms/step - loss: 0.1468 - accuracy: 0.9590 - val_loss: 0.1566 - val_accuracy: 0.9570\n",
            "Epoch 86/100\n",
            "422/422 [==============================] - 1s 2ms/step - loss: 0.1482 - accuracy: 0.9581 - val_loss: 0.1583 - val_accuracy: 0.9557\n",
            "Epoch 87/100\n",
            "422/422 [==============================] - 1s 2ms/step - loss: 0.1478 - accuracy: 0.9580 - val_loss: 0.1592 - val_accuracy: 0.9518\n",
            "Epoch 88/100\n",
            "422/422 [==============================] - 1s 2ms/step - loss: 0.1490 - accuracy: 0.9583 - val_loss: 0.1549 - val_accuracy: 0.9577\n",
            "Epoch 89/100\n",
            "422/422 [==============================] - 1s 2ms/step - loss: 0.1440 - accuracy: 0.9601 - val_loss: 0.1551 - val_accuracy: 0.9555\n",
            "Epoch 90/100\n",
            "422/422 [==============================] - 1s 2ms/step - loss: 0.1477 - accuracy: 0.9584 - val_loss: 0.1562 - val_accuracy: 0.9553\n",
            "Epoch 91/100\n",
            "422/422 [==============================] - 1s 2ms/step - loss: 0.1518 - accuracy: 0.9583 - val_loss: 0.1569 - val_accuracy: 0.9558\n",
            "Epoch 92/100\n",
            "422/422 [==============================] - 1s 2ms/step - loss: 0.1525 - accuracy: 0.9572 - val_loss: 0.1507 - val_accuracy: 0.9567\n",
            "Epoch 93/100\n",
            "422/422 [==============================] - 1s 2ms/step - loss: 0.1433 - accuracy: 0.9595 - val_loss: 0.1590 - val_accuracy: 0.9555\n",
            "Epoch 94/100\n",
            "422/422 [==============================] - 1s 2ms/step - loss: 0.1427 - accuracy: 0.9593 - val_loss: 0.1560 - val_accuracy: 0.9545\n",
            "Epoch 95/100\n",
            "422/422 [==============================] - 1s 2ms/step - loss: 0.1397 - accuracy: 0.9602 - val_loss: 0.1490 - val_accuracy: 0.9547\n",
            "Epoch 96/100\n",
            "422/422 [==============================] - 1s 2ms/step - loss: 0.1470 - accuracy: 0.9576 - val_loss: 0.1488 - val_accuracy: 0.9573\n",
            "Epoch 97/100\n",
            "422/422 [==============================] - 1s 2ms/step - loss: 0.1393 - accuracy: 0.9608 - val_loss: 0.1478 - val_accuracy: 0.9562\n",
            "Epoch 98/100\n",
            "422/422 [==============================] - 1s 2ms/step - loss: 0.1420 - accuracy: 0.9592 - val_loss: 0.1528 - val_accuracy: 0.9563\n",
            "Epoch 99/100\n",
            "422/422 [==============================] - 1s 2ms/step - loss: 0.1391 - accuracy: 0.9614 - val_loss: 0.1518 - val_accuracy: 0.9562\n",
            "Epoch 100/100\n",
            "422/422 [==============================] - 1s 2ms/step - loss: 0.1346 - accuracy: 0.9625 - val_loss: 0.1528 - val_accuracy: 0.9565\n"
          ],
          "name": "stdout"
        }
      ]
    },
    {
      "cell_type": "code",
      "metadata": {
        "colab": {
          "base_uri": "https://localhost:8080/"
        },
        "id": "l8VFbd-6GGlA",
        "outputId": "7b242418-6498-4812-bf23-467f2f57d376"
      },
      "source": [
        "loss,accuracy=model1.evaluate(x_te,y_te,verbose=True)\r\n"
      ],
      "execution_count": null,
      "outputs": [
        {
          "output_type": "stream",
          "text": [
            "313/313 [==============================] - 0s 957us/step - loss: 0.1827 - accuracy: 0.9458\n"
          ],
          "name": "stdout"
        }
      ]
    },
    {
      "cell_type": "code",
      "metadata": {
        "colab": {
          "base_uri": "https://localhost:8080/",
          "height": 295
        },
        "id": "9_pdMkfKGGoM",
        "outputId": "3072dc6d-310c-48a6-c340-76bf3ce5750c"
      },
      "source": [
        "plt.plot(history.history['accuracy'])\r\n",
        "plt.plot(history.history['val_accuracy'])\r\n",
        "plt.title('model_accuracy')\r\n",
        "plt.ylabel('accuracy')\r\n",
        "plt.xlabel('epoch')\r\n",
        "plt.legend(['training','validation'],loc='best')\r\n",
        "plt.show()"
      ],
      "execution_count": null,
      "outputs": [
        {
          "output_type": "display_data",
          "data": {
            "image/png": "[encoded data removed]",
            "text/plain": [
              "<Figure size 432x288 with 1 Axes>"
            ]
          },
          "metadata": {
            "tags": [],
            "needs_background": "light"
          }
        }
      ]
    },
    {
      "cell_type": "markdown",
      "metadata": {
        "id": "rcw8sicNHYrw"
      },
      "source": [
        ""
      ]
    },
    {
      "cell_type": "code",
      "metadata": {
        "colab": {
          "base_uri": "https://localhost:8080/",
          "height": 295
        },
        "id": "-gqwZauVGGrU",
        "outputId": "7232a8ae-ac04-4b8e-8266-b7902ff2f1c5"
      },
      "source": [
        "plt.plot(history.history['loss'])\r\n",
        "plt.plot(history.history['val_loss'])\r\n",
        "plt.title('model_loss')\r\n",
        "plt.ylabel('loss')\r\n",
        "plt.xlabel('epoch')\r\n",
        "plt.legend(['training','validation'],loc='best')\r\n",
        "plt.show()\r\n"
      ],
      "execution_count": null,
      "outputs": [
        {
          "output_type": "display_data",
          "data": {
            "image/png": "[encoded data removed]",
            "text/plain": [
              "<Figure size 432x288 with 1 Axes>"
            ]
          },
          "metadata": {
            "tags": [],
            "needs_background": "light"
          }
        }
      ]
    },
    {
      "cell_type": "code",
      "metadata": {
        "colab": {
          "base_uri": "https://localhost:8080/"
        },
        "id": "r5u26htrGGuZ",
        "outputId": "9352ce31-5679-4461-fedd-c9cfd8db03af"
      },
      "source": [
        "model2=Sequential()\r\n",
        "model2.add(Dense(units=100,activation='sigmoid',input_shape=(image_size,)))\r\n",
        "model2.add(Dense(units=num_classes,activation='softmax'))\r\n",
        "model2.summary()"
      ],
      "execution_count": null,
      "outputs": [
        {
          "output_type": "stream",
          "text": [
            "Model: \"sequential_2\"\n",
            "_________________________________________________________________\n",
            "Layer (type)                 Output Shape              Param #   \n",
            "=================================================================\n",
            "dense_4 (Dense)              (None, 100)               78500     \n",
            "_________________________________________________________________\n",
            "dense_5 (Dense)              (None, 10)                1010      \n",
            "=================================================================\n",
            "Total params: 79,510\n",
            "Trainable params: 79,510\n",
            "Non-trainable params: 0\n",
            "_________________________________________________________________\n"
          ],
          "name": "stdout"
        }
      ]
    },
    {
      "cell_type": "code",
      "metadata": {
        "colab": {
          "base_uri": "https://localhost:8080/"
        },
        "id": "rb00mbNLGYg4",
        "outputId": "b0609001-7d31-4eef-b9e4-363d2342fd5a"
      },
      "source": [
        "model2.compile(optimizer='sgd',loss='categorical_crossentropy',metrics=['accuracy'])\r\n",
        "history=model2.fit(x_tr,y_tr,batch_size=128,epochs=100,verbose=True,validation_split=.1)"
      ],
      "execution_count": null,
      "outputs": [
        {
          "output_type": "stream",
          "text": [
            "Epoch 1/100\n",
            "422/422 [==============================] - 2s 3ms/step - loss: 1.5269 - accuracy: 0.5567 - val_loss: 0.6118 - val_accuracy: 0.8770\n",
            "Epoch 2/100\n",
            "422/422 [==============================] - 1s 3ms/step - loss: 0.6213 - accuracy: 0.8535 - val_loss: 0.4285 - val_accuracy: 0.9085\n",
            "Epoch 3/100\n",
            "422/422 [==============================] - 1s 3ms/step - loss: 0.4736 - accuracy: 0.8851 - val_loss: 0.3625 - val_accuracy: 0.9185\n",
            "Epoch 4/100\n",
            "422/422 [==============================] - 1s 3ms/step - loss: 0.4047 - accuracy: 0.8987 - val_loss: 0.3182 - val_accuracy: 0.9218\n",
            "Epoch 5/100\n",
            "422/422 [==============================] - 1s 3ms/step - loss: 0.3664 - accuracy: 0.9068 - val_loss: 0.2925 - val_accuracy: 0.9268\n",
            "Epoch 6/100\n",
            "422/422 [==============================] - 1s 3ms/step - loss: 0.3377 - accuracy: 0.9119 - val_loss: 0.2741 - val_accuracy: 0.9313\n",
            "Epoch 7/100\n",
            "422/422 [==============================] - 1s 3ms/step - loss: 0.3169 - accuracy: 0.9162 - val_loss: 0.2572 - val_accuracy: 0.9350\n",
            "Epoch 8/100\n",
            "422/422 [==============================] - 1s 3ms/step - loss: 0.2976 - accuracy: 0.9220 - val_loss: 0.2491 - val_accuracy: 0.9367\n",
            "Epoch 9/100\n",
            "422/422 [==============================] - 1s 3ms/step - loss: 0.2901 - accuracy: 0.9232 - val_loss: 0.2363 - val_accuracy: 0.9400\n",
            "Epoch 10/100\n",
            "422/422 [==============================] - 1s 3ms/step - loss: 0.2700 - accuracy: 0.9279 - val_loss: 0.2264 - val_accuracy: 0.9428\n",
            "Epoch 11/100\n",
            "422/422 [==============================] - 1s 3ms/step - loss: 0.2594 - accuracy: 0.9297 - val_loss: 0.2238 - val_accuracy: 0.9400\n",
            "Epoch 12/100\n",
            "422/422 [==============================] - 1s 3ms/step - loss: 0.2559 - accuracy: 0.9321 - val_loss: 0.2122 - val_accuracy: 0.9445\n",
            "Epoch 13/100\n",
            "422/422 [==============================] - 1s 3ms/step - loss: 0.2450 - accuracy: 0.9351 - val_loss: 0.2108 - val_accuracy: 0.9440\n",
            "Epoch 14/100\n",
            "422/422 [==============================] - 1s 3ms/step - loss: 0.2363 - accuracy: 0.9347 - val_loss: 0.2048 - val_accuracy: 0.9478\n",
            "Epoch 15/100\n",
            "422/422 [==============================] - 1s 3ms/step - loss: 0.2276 - accuracy: 0.9384 - val_loss: 0.2040 - val_accuracy: 0.9478\n",
            "Epoch 16/100\n",
            "422/422 [==============================] - 1s 3ms/step - loss: 0.2276 - accuracy: 0.9388 - val_loss: 0.1937 - val_accuracy: 0.9497\n",
            "Epoch 17/100\n",
            "422/422 [==============================] - 1s 3ms/step - loss: 0.2165 - accuracy: 0.9406 - val_loss: 0.1950 - val_accuracy: 0.9502\n",
            "Epoch 18/100\n",
            "422/422 [==============================] - 1s 3ms/step - loss: 0.2096 - accuracy: 0.9428 - val_loss: 0.1851 - val_accuracy: 0.9527\n",
            "Epoch 19/100\n",
            "422/422 [==============================] - 1s 3ms/step - loss: 0.2100 - accuracy: 0.9422 - val_loss: 0.1838 - val_accuracy: 0.9510\n",
            "Epoch 20/100\n",
            "422/422 [==============================] - 1s 3ms/step - loss: 0.2013 - accuracy: 0.9448 - val_loss: 0.1848 - val_accuracy: 0.9512\n",
            "Epoch 21/100\n",
            "422/422 [==============================] - 1s 3ms/step - loss: 0.2012 - accuracy: 0.9467 - val_loss: 0.1799 - val_accuracy: 0.9535\n",
            "Epoch 22/100\n",
            "422/422 [==============================] - 1s 3ms/step - loss: 0.1884 - accuracy: 0.9487 - val_loss: 0.1804 - val_accuracy: 0.9502\n",
            "Epoch 23/100\n",
            "422/422 [==============================] - 1s 3ms/step - loss: 0.1922 - accuracy: 0.9489 - val_loss: 0.1790 - val_accuracy: 0.9535\n",
            "Epoch 24/100\n",
            "422/422 [==============================] - 1s 3ms/step - loss: 0.1819 - accuracy: 0.9510 - val_loss: 0.1784 - val_accuracy: 0.9512\n",
            "Epoch 25/100\n",
            "422/422 [==============================] - 1s 3ms/step - loss: 0.1849 - accuracy: 0.9491 - val_loss: 0.1715 - val_accuracy: 0.9533\n",
            "Epoch 26/100\n",
            "422/422 [==============================] - 1s 3ms/step - loss: 0.1809 - accuracy: 0.9506 - val_loss: 0.1729 - val_accuracy: 0.9555\n",
            "Epoch 27/100\n",
            "422/422 [==============================] - 1s 3ms/step - loss: 0.1784 - accuracy: 0.9504 - val_loss: 0.1670 - val_accuracy: 0.9568\n",
            "Epoch 28/100\n",
            "422/422 [==============================] - 1s 3ms/step - loss: 0.1712 - accuracy: 0.9535 - val_loss: 0.1691 - val_accuracy: 0.9545\n",
            "Epoch 29/100\n",
            "422/422 [==============================] - 1s 3ms/step - loss: 0.1707 - accuracy: 0.9538 - val_loss: 0.1637 - val_accuracy: 0.9563\n",
            "Epoch 30/100\n",
            "422/422 [==============================] - 1s 3ms/step - loss: 0.1644 - accuracy: 0.9544 - val_loss: 0.1647 - val_accuracy: 0.9572\n",
            "Epoch 31/100\n",
            "422/422 [==============================] - 1s 3ms/step - loss: 0.1663 - accuracy: 0.9552 - val_loss: 0.1625 - val_accuracy: 0.9567\n",
            "Epoch 32/100\n",
            "422/422 [==============================] - 1s 3ms/step - loss: 0.1600 - accuracy: 0.9565 - val_loss: 0.1607 - val_accuracy: 0.9583\n",
            "Epoch 33/100\n",
            "422/422 [==============================] - 1s 3ms/step - loss: 0.1601 - accuracy: 0.9560 - val_loss: 0.1552 - val_accuracy: 0.9585\n",
            "Epoch 34/100\n",
            "422/422 [==============================] - 1s 3ms/step - loss: 0.1551 - accuracy: 0.9575 - val_loss: 0.1569 - val_accuracy: 0.9587\n",
            "Epoch 35/100\n",
            "422/422 [==============================] - 1s 3ms/step - loss: 0.1533 - accuracy: 0.9588 - val_loss: 0.1559 - val_accuracy: 0.9592\n",
            "Epoch 36/100\n",
            "422/422 [==============================] - 1s 3ms/step - loss: 0.1526 - accuracy: 0.9588 - val_loss: 0.1559 - val_accuracy: 0.9602\n",
            "Epoch 37/100\n",
            "422/422 [==============================] - 1s 3ms/step - loss: 0.1509 - accuracy: 0.9594 - val_loss: 0.1548 - val_accuracy: 0.9585\n",
            "Epoch 38/100\n",
            "422/422 [==============================] - 1s 3ms/step - loss: 0.1489 - accuracy: 0.9594 - val_loss: 0.1540 - val_accuracy: 0.9602\n",
            "Epoch 39/100\n",
            "422/422 [==============================] - 1s 3ms/step - loss: 0.1480 - accuracy: 0.9591 - val_loss: 0.1507 - val_accuracy: 0.9608\n",
            "Epoch 40/100\n",
            "422/422 [==============================] - 1s 3ms/step - loss: 0.1452 - accuracy: 0.9615 - val_loss: 0.1512 - val_accuracy: 0.9605\n",
            "Epoch 41/100\n",
            "422/422 [==============================] - 1s 3ms/step - loss: 0.1450 - accuracy: 0.9614 - val_loss: 0.1501 - val_accuracy: 0.9587\n",
            "Epoch 42/100\n",
            "422/422 [==============================] - 1s 3ms/step - loss: 0.1407 - accuracy: 0.9628 - val_loss: 0.1475 - val_accuracy: 0.9602\n",
            "Epoch 43/100\n",
            "422/422 [==============================] - 1s 3ms/step - loss: 0.1390 - accuracy: 0.9629 - val_loss: 0.1498 - val_accuracy: 0.9617\n",
            "Epoch 44/100\n",
            "422/422 [==============================] - 1s 3ms/step - loss: 0.1342 - accuracy: 0.9635 - val_loss: 0.1449 - val_accuracy: 0.9622\n",
            "Epoch 45/100\n",
            "422/422 [==============================] - 1s 3ms/step - loss: 0.1324 - accuracy: 0.9651 - val_loss: 0.1430 - val_accuracy: 0.9627\n",
            "Epoch 46/100\n",
            "422/422 [==============================] - 1s 3ms/step - loss: 0.1350 - accuracy: 0.9641 - val_loss: 0.1462 - val_accuracy: 0.9607\n",
            "Epoch 47/100\n",
            "422/422 [==============================] - 1s 3ms/step - loss: 0.1358 - accuracy: 0.9624 - val_loss: 0.1396 - val_accuracy: 0.9640\n",
            "Epoch 48/100\n",
            "422/422 [==============================] - 1s 3ms/step - loss: 0.1255 - accuracy: 0.9667 - val_loss: 0.1407 - val_accuracy: 0.9613\n",
            "Epoch 49/100\n",
            "422/422 [==============================] - 1s 3ms/step - loss: 0.1329 - accuracy: 0.9639 - val_loss: 0.1407 - val_accuracy: 0.9638\n",
            "Epoch 50/100\n",
            "422/422 [==============================] - 1s 3ms/step - loss: 0.1260 - accuracy: 0.9654 - val_loss: 0.1424 - val_accuracy: 0.9608\n",
            "Epoch 51/100\n",
            "422/422 [==============================] - 1s 3ms/step - loss: 0.1238 - accuracy: 0.9671 - val_loss: 0.1415 - val_accuracy: 0.9610\n",
            "Epoch 52/100\n",
            "422/422 [==============================] - 1s 3ms/step - loss: 0.1226 - accuracy: 0.9682 - val_loss: 0.1387 - val_accuracy: 0.9643\n",
            "Epoch 53/100\n",
            "422/422 [==============================] - 1s 3ms/step - loss: 0.1213 - accuracy: 0.9671 - val_loss: 0.1401 - val_accuracy: 0.9625\n",
            "Epoch 54/100\n",
            "422/422 [==============================] - 1s 3ms/step - loss: 0.1187 - accuracy: 0.9694 - val_loss: 0.1374 - val_accuracy: 0.9635\n",
            "Epoch 55/100\n",
            "422/422 [==============================] - 1s 3ms/step - loss: 0.1205 - accuracy: 0.9677 - val_loss: 0.1374 - val_accuracy: 0.9643\n",
            "Epoch 56/100\n",
            "422/422 [==============================] - 1s 3ms/step - loss: 0.1166 - accuracy: 0.9692 - val_loss: 0.1383 - val_accuracy: 0.9628\n",
            "Epoch 57/100\n",
            "422/422 [==============================] - 1s 3ms/step - loss: 0.1175 - accuracy: 0.9684 - val_loss: 0.1381 - val_accuracy: 0.9632\n",
            "Epoch 58/100\n",
            "422/422 [==============================] - 1s 3ms/step - loss: 0.1148 - accuracy: 0.9705 - val_loss: 0.1327 - val_accuracy: 0.9625\n",
            "Epoch 59/100\n",
            "422/422 [==============================] - 1s 3ms/step - loss: 0.1106 - accuracy: 0.9713 - val_loss: 0.1325 - val_accuracy: 0.9625\n",
            "Epoch 60/100\n",
            "422/422 [==============================] - 1s 3ms/step - loss: 0.1077 - accuracy: 0.9710 - val_loss: 0.1317 - val_accuracy: 0.9642\n",
            "Epoch 61/100\n",
            "422/422 [==============================] - 1s 3ms/step - loss: 0.1104 - accuracy: 0.9711 - val_loss: 0.1299 - val_accuracy: 0.9648\n",
            "Epoch 62/100\n",
            "422/422 [==============================] - 1s 3ms/step - loss: 0.1071 - accuracy: 0.9714 - val_loss: 0.1338 - val_accuracy: 0.9638\n",
            "Epoch 63/100\n",
            "422/422 [==============================] - 1s 3ms/step - loss: 0.1044 - accuracy: 0.9720 - val_loss: 0.1313 - val_accuracy: 0.9653\n",
            "Epoch 64/100\n",
            "422/422 [==============================] - 1s 3ms/step - loss: 0.1086 - accuracy: 0.9712 - val_loss: 0.1285 - val_accuracy: 0.9638\n",
            "Epoch 65/100\n",
            "422/422 [==============================] - 1s 3ms/step - loss: 0.1036 - accuracy: 0.9719 - val_loss: 0.1320 - val_accuracy: 0.9645\n",
            "Epoch 66/100\n",
            "422/422 [==============================] - 1s 3ms/step - loss: 0.1059 - accuracy: 0.9727 - val_loss: 0.1316 - val_accuracy: 0.9637\n",
            "Epoch 67/100\n",
            "422/422 [==============================] - 1s 3ms/step - loss: 0.1057 - accuracy: 0.9734 - val_loss: 0.1323 - val_accuracy: 0.9652\n",
            "Epoch 68/100\n",
            "422/422 [==============================] - 1s 3ms/step - loss: 0.1048 - accuracy: 0.9729 - val_loss: 0.1285 - val_accuracy: 0.9657\n",
            "Epoch 69/100\n",
            "422/422 [==============================] - 1s 3ms/step - loss: 0.1030 - accuracy: 0.9728 - val_loss: 0.1276 - val_accuracy: 0.9652\n",
            "Epoch 70/100\n",
            "422/422 [==============================] - 1s 3ms/step - loss: 0.1017 - accuracy: 0.9745 - val_loss: 0.1223 - val_accuracy: 0.9667\n",
            "Epoch 71/100\n",
            "422/422 [==============================] - 1s 3ms/step - loss: 0.0976 - accuracy: 0.9751 - val_loss: 0.1264 - val_accuracy: 0.9652\n",
            "Epoch 72/100\n",
            "422/422 [==============================] - 1s 3ms/step - loss: 0.0978 - accuracy: 0.9745 - val_loss: 0.1257 - val_accuracy: 0.9667\n",
            "Epoch 73/100\n",
            "422/422 [==============================] - 1s 3ms/step - loss: 0.0996 - accuracy: 0.9737 - val_loss: 0.1289 - val_accuracy: 0.9647\n",
            "Epoch 74/100\n",
            "422/422 [==============================] - 1s 3ms/step - loss: 0.0965 - accuracy: 0.9764 - val_loss: 0.1278 - val_accuracy: 0.9642\n",
            "Epoch 75/100\n",
            "422/422 [==============================] - 1s 3ms/step - loss: 0.0969 - accuracy: 0.9757 - val_loss: 0.1233 - val_accuracy: 0.9657\n",
            "Epoch 76/100\n",
            "422/422 [==============================] - 1s 3ms/step - loss: 0.0964 - accuracy: 0.9752 - val_loss: 0.1246 - val_accuracy: 0.9632\n",
            "Epoch 77/100\n",
            "422/422 [==============================] - 1s 3ms/step - loss: 0.0952 - accuracy: 0.9754 - val_loss: 0.1266 - val_accuracy: 0.9627\n",
            "Epoch 78/100\n",
            "422/422 [==============================] - 1s 3ms/step - loss: 0.0930 - accuracy: 0.9767 - val_loss: 0.1246 - val_accuracy: 0.9662\n",
            "Epoch 79/100\n",
            "422/422 [==============================] - 1s 3ms/step - loss: 0.0901 - accuracy: 0.9764 - val_loss: 0.1230 - val_accuracy: 0.9640\n",
            "Epoch 80/100\n",
            "422/422 [==============================] - 1s 3ms/step - loss: 0.0877 - accuracy: 0.9775 - val_loss: 0.1243 - val_accuracy: 0.9655\n",
            "Epoch 81/100\n",
            "422/422 [==============================] - 1s 3ms/step - loss: 0.0913 - accuracy: 0.9766 - val_loss: 0.1213 - val_accuracy: 0.9642\n",
            "Epoch 82/100\n",
            "422/422 [==============================] - 1s 3ms/step - loss: 0.0891 - accuracy: 0.9761 - val_loss: 0.1200 - val_accuracy: 0.9672\n",
            "Epoch 83/100\n",
            "422/422 [==============================] - 1s 3ms/step - loss: 0.0866 - accuracy: 0.9781 - val_loss: 0.1243 - val_accuracy: 0.9635\n",
            "Epoch 84/100\n",
            "422/422 [==============================] - 1s 3ms/step - loss: 0.0875 - accuracy: 0.9781 - val_loss: 0.1218 - val_accuracy: 0.9653\n",
            "Epoch 85/100\n",
            "422/422 [==============================] - 1s 3ms/step - loss: 0.0883 - accuracy: 0.9772 - val_loss: 0.1218 - val_accuracy: 0.9662\n",
            "Epoch 86/100\n",
            "422/422 [==============================] - 1s 3ms/step - loss: 0.0830 - accuracy: 0.9796 - val_loss: 0.1208 - val_accuracy: 0.9652\n",
            "Epoch 87/100\n",
            "422/422 [==============================] - 1s 3ms/step - loss: 0.0829 - accuracy: 0.9789 - val_loss: 0.1184 - val_accuracy: 0.9658\n",
            "Epoch 88/100\n",
            "422/422 [==============================] - 1s 3ms/step - loss: 0.0845 - accuracy: 0.9781 - val_loss: 0.1206 - val_accuracy: 0.9662\n",
            "Epoch 89/100\n",
            "422/422 [==============================] - 1s 3ms/step - loss: 0.0785 - accuracy: 0.9804 - val_loss: 0.1192 - val_accuracy: 0.9665\n",
            "Epoch 90/100\n",
            "422/422 [==============================] - 1s 3ms/step - loss: 0.0817 - accuracy: 0.9791 - val_loss: 0.1188 - val_accuracy: 0.9648\n",
            "Epoch 91/100\n",
            "422/422 [==============================] - 1s 3ms/step - loss: 0.0812 - accuracy: 0.9805 - val_loss: 0.1209 - val_accuracy: 0.9675\n",
            "Epoch 92/100\n",
            "422/422 [==============================] - 1s 3ms/step - loss: 0.0819 - accuracy: 0.9801 - val_loss: 0.1212 - val_accuracy: 0.9658\n",
            "Epoch 93/100\n",
            "422/422 [==============================] - 1s 3ms/step - loss: 0.0803 - accuracy: 0.9799 - val_loss: 0.1189 - val_accuracy: 0.9658\n",
            "Epoch 94/100\n",
            "422/422 [==============================] - 1s 3ms/step - loss: 0.0781 - accuracy: 0.9804 - val_loss: 0.1209 - val_accuracy: 0.9655\n",
            "Epoch 95/100\n",
            "422/422 [==============================] - 1s 3ms/step - loss: 0.0765 - accuracy: 0.9819 - val_loss: 0.1202 - val_accuracy: 0.9650\n",
            "Epoch 96/100\n",
            "422/422 [==============================] - 1s 3ms/step - loss: 0.0781 - accuracy: 0.9799 - val_loss: 0.1193 - val_accuracy: 0.9667\n",
            "Epoch 97/100\n",
            "422/422 [==============================] - 1s 3ms/step - loss: 0.0750 - accuracy: 0.9820 - val_loss: 0.1209 - val_accuracy: 0.9655\n",
            "Epoch 98/100\n",
            "422/422 [==============================] - 1s 3ms/step - loss: 0.0748 - accuracy: 0.9810 - val_loss: 0.1182 - val_accuracy: 0.9655\n",
            "Epoch 99/100\n",
            "422/422 [==============================] - 1s 3ms/step - loss: 0.0722 - accuracy: 0.9818 - val_loss: 0.1195 - val_accuracy: 0.9663\n",
            "Epoch 100/100\n",
            "422/422 [==============================] - 1s 3ms/step - loss: 0.0735 - accuracy: 0.9828 - val_loss: 0.1180 - val_accuracy: 0.9663\n"
          ],
          "name": "stdout"
        }
      ]
    },
    {
      "cell_type": "code",
      "metadata": {
        "colab": {
          "base_uri": "https://localhost:8080/"
        },
        "id": "0TDpw2mQHDTX",
        "outputId": "2b660dfd-99b8-4556-af36-8e6175a5b121"
      },
      "source": [
        "loss,accuracy=model2.evaluate(x_te,y_te,verbose=True)\r\n"
      ],
      "execution_count": null,
      "outputs": [
        {
          "output_type": "stream",
          "text": [
            "313/313 [==============================] - 0s 1ms/step - loss: 0.1377 - accuracy: 0.9603\n"
          ],
          "name": "stdout"
        }
      ]
    },
    {
      "cell_type": "code",
      "metadata": {
        "colab": {
          "base_uri": "https://localhost:8080/",
          "height": 295
        },
        "id": "3t8iCe9pHDwt",
        "outputId": "183d0080-955d-47a2-b24f-31802c2a421e"
      },
      "source": [
        "plt.plot(history.history['accuracy'])\r\n",
        "plt.plot(history.history['val_accuracy'])\r\n",
        "plt.title('model_accuracy')\r\n",
        "plt.ylabel('accuracy')\r\n",
        "plt.xlabel('epoch')\r\n",
        "plt.legend(['training','validation'],loc='best')\r\n",
        "plt.show()"
      ],
      "execution_count": null,
      "outputs": [
        {
          "output_type": "display_data",
          "data": {
            "image/png": "[encoded data removed]",
            "text/plain": [
              "<Figure size 432x288 with 1 Axes>"
            ]
          },
          "metadata": {
            "tags": [],
            "needs_background": "light"
          }
        }
      ]
    },
    {
      "cell_type": "code",
      "metadata": {
        "colab": {
          "base_uri": "https://localhost:8080/",
          "height": 295
        },
        "id": "wnnoa9wVHGhF",
        "outputId": "62bf81f0-0216-48b9-d5e8-37426d68c364"
      },
      "source": [
        "plt.plot(history.history['loss'])\r\n",
        "plt.plot(history.history['val_loss'])\r\n",
        "plt.title('model_loss')\r\n",
        "plt.ylabel('loss')\r\n",
        "plt.xlabel('epoch')\r\n",
        "plt.legend(['training','validation'],loc='best')\r\n",
        "plt.show()\r\n"
      ],
      "execution_count": null,
      "outputs": [
        {
          "output_type": "display_data",
          "data": {
            "image/png": "[encoded data removed]",
            "text/plain": [
              "<Figure size 432x288 with 1 Axes>"
            ]
          },
          "metadata": {
            "tags": [],
            "needs_background": "light"
          }
        }
      ]
    },
    {
      "cell_type": "code",
      "metadata": {
        "colab": {
          "base_uri": "https://localhost:8080/"
        },
        "id": "RJY8fJnLIKIO",
        "outputId": "b3ac3403-ffdb-40d0-9416-806aaeaa03d1"
      },
      "source": [
        "model3=Sequential()\r\n",
        "model3.add(Dense(units=200,activation='sigmoid',input_shape=(image_size,)))\r\n",
        "model3.add(Dense(units=num_classes,activation='softmax'))\r\n",
        "model3.summary()"
      ],
      "execution_count": null,
      "outputs": [
        {
          "output_type": "stream",
          "text": [
            "Model: \"sequential_4\"\n",
            "_________________________________________________________________\n",
            "Layer (type)                 Output Shape              Param #   \n",
            "=================================================================\n",
            "dense_8 (Dense)              (None, 200)               157000    \n",
            "_________________________________________________________________\n",
            "dense_9 (Dense)              (None, 10)                2010      \n",
            "=================================================================\n",
            "Total params: 159,010\n",
            "Trainable params: 159,010\n",
            "Non-trainable params: 0\n",
            "_________________________________________________________________\n"
          ],
          "name": "stdout"
        }
      ]
    },
    {
      "cell_type": "code",
      "metadata": {
        "colab": {
          "base_uri": "https://localhost:8080/"
        },
        "id": "At-iq12WIZWF",
        "outputId": "0df91fde-837f-4c74-a1af-1f37000340be"
      },
      "source": [
        "model3.compile(optimizer='sgd',loss='categorical_crossentropy',metrics=['accuracy'])\r\n",
        "history=model3.fit(x_tr,y_tr,batch_size=128,epochs=100,verbose=True,validation_split=.1)"
      ],
      "execution_count": null,
      "outputs": [
        {
          "output_type": "stream",
          "text": [
            "Epoch 1/100\n",
            "422/422 [==============================] - 2s 4ms/step - loss: 1.3442 - accuracy: 0.6142 - val_loss: 0.4966 - val_accuracy: 0.8897\n",
            "Epoch 2/100\n",
            "422/422 [==============================] - 2s 4ms/step - loss: 0.5147 - accuracy: 0.8733 - val_loss: 0.3663 - val_accuracy: 0.9103\n",
            "Epoch 3/100\n",
            "422/422 [==============================] - 2s 4ms/step - loss: 0.4026 - accuracy: 0.8957 - val_loss: 0.3053 - val_accuracy: 0.9243\n",
            "Epoch 4/100\n",
            "422/422 [==============================] - 2s 4ms/step - loss: 0.3487 - accuracy: 0.9057 - val_loss: 0.2789 - val_accuracy: 0.9287\n",
            "Epoch 5/100\n",
            "422/422 [==============================] - 2s 4ms/step - loss: 0.3065 - accuracy: 0.9152 - val_loss: 0.2587 - val_accuracy: 0.9327\n",
            "Epoch 6/100\n",
            "422/422 [==============================] - 2s 4ms/step - loss: 0.2877 - accuracy: 0.9220 - val_loss: 0.2401 - val_accuracy: 0.9385\n",
            "Epoch 7/100\n",
            "422/422 [==============================] - 2s 4ms/step - loss: 0.2676 - accuracy: 0.9265 - val_loss: 0.2278 - val_accuracy: 0.9413\n",
            "Epoch 8/100\n",
            "422/422 [==============================] - 2s 4ms/step - loss: 0.2524 - accuracy: 0.9317 - val_loss: 0.2162 - val_accuracy: 0.9445\n",
            "Epoch 9/100\n",
            "422/422 [==============================] - 2s 4ms/step - loss: 0.2377 - accuracy: 0.9348 - val_loss: 0.2086 - val_accuracy: 0.9450\n",
            "Epoch 10/100\n",
            "422/422 [==============================] - 2s 4ms/step - loss: 0.2292 - accuracy: 0.9377 - val_loss: 0.1989 - val_accuracy: 0.9477\n",
            "Epoch 11/100\n",
            "422/422 [==============================] - 2s 4ms/step - loss: 0.2154 - accuracy: 0.9405 - val_loss: 0.1944 - val_accuracy: 0.9490\n",
            "Epoch 12/100\n",
            "422/422 [==============================] - 2s 4ms/step - loss: 0.2102 - accuracy: 0.9429 - val_loss: 0.1882 - val_accuracy: 0.9492\n",
            "Epoch 13/100\n",
            "422/422 [==============================] - 2s 4ms/step - loss: 0.2008 - accuracy: 0.9455 - val_loss: 0.1820 - val_accuracy: 0.9518\n",
            "Epoch 14/100\n",
            "422/422 [==============================] - 2s 4ms/step - loss: 0.1916 - accuracy: 0.9475 - val_loss: 0.1782 - val_accuracy: 0.9518\n",
            "Epoch 15/100\n",
            "422/422 [==============================] - 2s 4ms/step - loss: 0.1861 - accuracy: 0.9488 - val_loss: 0.1771 - val_accuracy: 0.9542\n",
            "Epoch 16/100\n",
            "422/422 [==============================] - 2s 4ms/step - loss: 0.1776 - accuracy: 0.9518 - val_loss: 0.1700 - val_accuracy: 0.9545\n",
            "Epoch 17/100\n",
            "422/422 [==============================] - 2s 4ms/step - loss: 0.1737 - accuracy: 0.9513 - val_loss: 0.1682 - val_accuracy: 0.9527\n",
            "Epoch 18/100\n",
            "422/422 [==============================] - 2s 4ms/step - loss: 0.1677 - accuracy: 0.9550 - val_loss: 0.1651 - val_accuracy: 0.9572\n",
            "Epoch 19/100\n",
            "422/422 [==============================] - 2s 4ms/step - loss: 0.1625 - accuracy: 0.9557 - val_loss: 0.1614 - val_accuracy: 0.9567\n",
            "Epoch 20/100\n",
            "422/422 [==============================] - 2s 4ms/step - loss: 0.1561 - accuracy: 0.9570 - val_loss: 0.1625 - val_accuracy: 0.9562\n",
            "Epoch 21/100\n",
            "422/422 [==============================] - 2s 4ms/step - loss: 0.1537 - accuracy: 0.9597 - val_loss: 0.1570 - val_accuracy: 0.9575\n",
            "Epoch 22/100\n",
            "422/422 [==============================] - 2s 4ms/step - loss: 0.1476 - accuracy: 0.9617 - val_loss: 0.1565 - val_accuracy: 0.9590\n",
            "Epoch 23/100\n",
            "422/422 [==============================] - 2s 4ms/step - loss: 0.1434 - accuracy: 0.9623 - val_loss: 0.1523 - val_accuracy: 0.9597\n",
            "Epoch 24/100\n",
            "422/422 [==============================] - 2s 4ms/step - loss: 0.1463 - accuracy: 0.9602 - val_loss: 0.1498 - val_accuracy: 0.9605\n",
            "Epoch 25/100\n",
            "422/422 [==============================] - 2s 4ms/step - loss: 0.1367 - accuracy: 0.9632 - val_loss: 0.1470 - val_accuracy: 0.9598\n",
            "Epoch 26/100\n",
            "422/422 [==============================] - 2s 4ms/step - loss: 0.1358 - accuracy: 0.9639 - val_loss: 0.1456 - val_accuracy: 0.9617\n",
            "Epoch 27/100\n",
            "422/422 [==============================] - 2s 4ms/step - loss: 0.1327 - accuracy: 0.9646 - val_loss: 0.1449 - val_accuracy: 0.9612\n",
            "Epoch 28/100\n",
            "422/422 [==============================] - 2s 4ms/step - loss: 0.1295 - accuracy: 0.9665 - val_loss: 0.1438 - val_accuracy: 0.9605\n",
            "Epoch 29/100\n",
            "422/422 [==============================] - 2s 4ms/step - loss: 0.1264 - accuracy: 0.9669 - val_loss: 0.1416 - val_accuracy: 0.9613\n",
            "Epoch 30/100\n",
            "422/422 [==============================] - 1s 4ms/step - loss: 0.1241 - accuracy: 0.9688 - val_loss: 0.1408 - val_accuracy: 0.9602\n",
            "Epoch 31/100\n",
            "422/422 [==============================] - 2s 4ms/step - loss: 0.1220 - accuracy: 0.9689 - val_loss: 0.1384 - val_accuracy: 0.9595\n",
            "Epoch 32/100\n",
            "422/422 [==============================] - 2s 4ms/step - loss: 0.1191 - accuracy: 0.9695 - val_loss: 0.1380 - val_accuracy: 0.9628\n",
            "Epoch 33/100\n",
            "422/422 [==============================] - 2s 4ms/step - loss: 0.1158 - accuracy: 0.9698 - val_loss: 0.1352 - val_accuracy: 0.9627\n",
            "Epoch 34/100\n",
            "422/422 [==============================] - 2s 4ms/step - loss: 0.1133 - accuracy: 0.9712 - val_loss: 0.1348 - val_accuracy: 0.9630\n",
            "Epoch 35/100\n",
            "422/422 [==============================] - 2s 4ms/step - loss: 0.1107 - accuracy: 0.9722 - val_loss: 0.1336 - val_accuracy: 0.9643\n",
            "Epoch 36/100\n",
            "422/422 [==============================] - 2s 4ms/step - loss: 0.1086 - accuracy: 0.9726 - val_loss: 0.1320 - val_accuracy: 0.9645\n",
            "Epoch 37/100\n",
            "422/422 [==============================] - 2s 4ms/step - loss: 0.1050 - accuracy: 0.9742 - val_loss: 0.1323 - val_accuracy: 0.9645\n",
            "Epoch 38/100\n",
            "422/422 [==============================] - 2s 4ms/step - loss: 0.1058 - accuracy: 0.9741 - val_loss: 0.1293 - val_accuracy: 0.9643\n",
            "Epoch 39/100\n",
            "422/422 [==============================] - 2s 4ms/step - loss: 0.1018 - accuracy: 0.9745 - val_loss: 0.1278 - val_accuracy: 0.9640\n",
            "Epoch 40/100\n",
            "422/422 [==============================] - 2s 4ms/step - loss: 0.0969 - accuracy: 0.9759 - val_loss: 0.1269 - val_accuracy: 0.9655\n",
            "Epoch 41/100\n",
            "422/422 [==============================] - 2s 4ms/step - loss: 0.0948 - accuracy: 0.9772 - val_loss: 0.1265 - val_accuracy: 0.9653\n",
            "Epoch 42/100\n",
            "422/422 [==============================] - 2s 4ms/step - loss: 0.0936 - accuracy: 0.9782 - val_loss: 0.1263 - val_accuracy: 0.9655\n",
            "Epoch 43/100\n",
            "422/422 [==============================] - 2s 4ms/step - loss: 0.0927 - accuracy: 0.9776 - val_loss: 0.1234 - val_accuracy: 0.9660\n",
            "Epoch 44/100\n",
            "422/422 [==============================] - 2s 4ms/step - loss: 0.0909 - accuracy: 0.9784 - val_loss: 0.1238 - val_accuracy: 0.9652\n",
            "Epoch 45/100\n",
            "422/422 [==============================] - 2s 4ms/step - loss: 0.0869 - accuracy: 0.9789 - val_loss: 0.1215 - val_accuracy: 0.9660\n",
            "Epoch 46/100\n",
            "422/422 [==============================] - 2s 4ms/step - loss: 0.0842 - accuracy: 0.9799 - val_loss: 0.1203 - val_accuracy: 0.9660\n",
            "Epoch 47/100\n",
            "422/422 [==============================] - 2s 4ms/step - loss: 0.0867 - accuracy: 0.9795 - val_loss: 0.1235 - val_accuracy: 0.9655\n",
            "Epoch 48/100\n",
            "422/422 [==============================] - 2s 4ms/step - loss: 0.0851 - accuracy: 0.9798 - val_loss: 0.1199 - val_accuracy: 0.9653\n",
            "Epoch 49/100\n",
            "422/422 [==============================] - 1s 4ms/step - loss: 0.0821 - accuracy: 0.9798 - val_loss: 0.1215 - val_accuracy: 0.9658\n",
            "Epoch 50/100\n",
            "422/422 [==============================] - 2s 4ms/step - loss: 0.0806 - accuracy: 0.9816 - val_loss: 0.1197 - val_accuracy: 0.9672\n",
            "Epoch 51/100\n",
            "422/422 [==============================] - 2s 4ms/step - loss: 0.0797 - accuracy: 0.9816 - val_loss: 0.1198 - val_accuracy: 0.9675\n",
            "Epoch 52/100\n",
            "422/422 [==============================] - 2s 4ms/step - loss: 0.0794 - accuracy: 0.9811 - val_loss: 0.1203 - val_accuracy: 0.9660\n",
            "Epoch 53/100\n",
            "422/422 [==============================] - 2s 4ms/step - loss: 0.0755 - accuracy: 0.9833 - val_loss: 0.1198 - val_accuracy: 0.9675\n",
            "Epoch 54/100\n",
            "422/422 [==============================] - 2s 4ms/step - loss: 0.0739 - accuracy: 0.9838 - val_loss: 0.1175 - val_accuracy: 0.9657\n",
            "Epoch 55/100\n",
            "422/422 [==============================] - 2s 4ms/step - loss: 0.0695 - accuracy: 0.9849 - val_loss: 0.1177 - val_accuracy: 0.9677\n",
            "Epoch 56/100\n",
            "422/422 [==============================] - 2s 4ms/step - loss: 0.0708 - accuracy: 0.9840 - val_loss: 0.1173 - val_accuracy: 0.9667\n",
            "Epoch 57/100\n",
            "422/422 [==============================] - 2s 4ms/step - loss: 0.0686 - accuracy: 0.9853 - val_loss: 0.1178 - val_accuracy: 0.9662\n",
            "Epoch 58/100\n",
            "422/422 [==============================] - 2s 4ms/step - loss: 0.0673 - accuracy: 0.9859 - val_loss: 0.1150 - val_accuracy: 0.9672\n",
            "Epoch 59/100\n",
            "422/422 [==============================] - 2s 4ms/step - loss: 0.0675 - accuracy: 0.9850 - val_loss: 0.1187 - val_accuracy: 0.9667\n",
            "Epoch 60/100\n",
            "422/422 [==============================] - 2s 4ms/step - loss: 0.0660 - accuracy: 0.9858 - val_loss: 0.1162 - val_accuracy: 0.9672\n",
            "Epoch 61/100\n",
            "422/422 [==============================] - 2s 4ms/step - loss: 0.0649 - accuracy: 0.9856 - val_loss: 0.1149 - val_accuracy: 0.9677\n",
            "Epoch 62/100\n",
            "422/422 [==============================] - 2s 4ms/step - loss: 0.0616 - accuracy: 0.9870 - val_loss: 0.1167 - val_accuracy: 0.9662\n",
            "Epoch 63/100\n",
            "422/422 [==============================] - 2s 4ms/step - loss: 0.0606 - accuracy: 0.9874 - val_loss: 0.1174 - val_accuracy: 0.9672\n",
            "Epoch 64/100\n",
            "422/422 [==============================] - 2s 4ms/step - loss: 0.0597 - accuracy: 0.9875 - val_loss: 0.1143 - val_accuracy: 0.9670\n",
            "Epoch 65/100\n",
            "422/422 [==============================] - 2s 4ms/step - loss: 0.0617 - accuracy: 0.9872 - val_loss: 0.1175 - val_accuracy: 0.9670\n",
            "Epoch 66/100\n",
            "422/422 [==============================] - 2s 4ms/step - loss: 0.0601 - accuracy: 0.9872 - val_loss: 0.1131 - val_accuracy: 0.9668\n",
            "Epoch 67/100\n",
            "422/422 [==============================] - 2s 4ms/step - loss: 0.0564 - accuracy: 0.9884 - val_loss: 0.1126 - val_accuracy: 0.9682\n",
            "Epoch 68/100\n",
            "422/422 [==============================] - 2s 4ms/step - loss: 0.0544 - accuracy: 0.9889 - val_loss: 0.1141 - val_accuracy: 0.9682\n",
            "Epoch 69/100\n",
            "422/422 [==============================] - 2s 4ms/step - loss: 0.0544 - accuracy: 0.9891 - val_loss: 0.1138 - val_accuracy: 0.9670\n",
            "Epoch 70/100\n",
            "422/422 [==============================] - 2s 4ms/step - loss: 0.0523 - accuracy: 0.9897 - val_loss: 0.1145 - val_accuracy: 0.9665\n",
            "Epoch 71/100\n",
            "422/422 [==============================] - 2s 4ms/step - loss: 0.0502 - accuracy: 0.9906 - val_loss: 0.1133 - val_accuracy: 0.9663\n",
            "Epoch 72/100\n",
            "422/422 [==============================] - 2s 4ms/step - loss: 0.0509 - accuracy: 0.9903 - val_loss: 0.1124 - val_accuracy: 0.9687\n",
            "Epoch 73/100\n",
            "422/422 [==============================] - 2s 4ms/step - loss: 0.0501 - accuracy: 0.9898 - val_loss: 0.1122 - val_accuracy: 0.9675\n",
            "Epoch 74/100\n",
            "422/422 [==============================] - 2s 4ms/step - loss: 0.0503 - accuracy: 0.9896 - val_loss: 0.1148 - val_accuracy: 0.9665\n",
            "Epoch 75/100\n",
            "422/422 [==============================] - 2s 4ms/step - loss: 0.0502 - accuracy: 0.9896 - val_loss: 0.1149 - val_accuracy: 0.9662\n",
            "Epoch 76/100\n",
            "422/422 [==============================] - 2s 4ms/step - loss: 0.0473 - accuracy: 0.9907 - val_loss: 0.1129 - val_accuracy: 0.9692\n",
            "Epoch 77/100\n",
            "422/422 [==============================] - 2s 4ms/step - loss: 0.0467 - accuracy: 0.9908 - val_loss: 0.1140 - val_accuracy: 0.9683\n",
            "Epoch 78/100\n",
            "422/422 [==============================] - 2s 4ms/step - loss: 0.0447 - accuracy: 0.9910 - val_loss: 0.1129 - val_accuracy: 0.9672\n",
            "Epoch 79/100\n",
            "422/422 [==============================] - 2s 4ms/step - loss: 0.0452 - accuracy: 0.9910 - val_loss: 0.1121 - val_accuracy: 0.9678\n",
            "Epoch 80/100\n",
            "422/422 [==============================] - 2s 4ms/step - loss: 0.0433 - accuracy: 0.9914 - val_loss: 0.1113 - val_accuracy: 0.9682\n",
            "Epoch 81/100\n",
            "422/422 [==============================] - 2s 4ms/step - loss: 0.0442 - accuracy: 0.9918 - val_loss: 0.1125 - val_accuracy: 0.9670\n",
            "Epoch 82/100\n",
            "422/422 [==============================] - 2s 4ms/step - loss: 0.0425 - accuracy: 0.9917 - val_loss: 0.1113 - val_accuracy: 0.9688\n",
            "Epoch 83/100\n",
            "422/422 [==============================] - 2s 4ms/step - loss: 0.0409 - accuracy: 0.9923 - val_loss: 0.1125 - val_accuracy: 0.9673\n",
            "Epoch 84/100\n",
            "422/422 [==============================] - 2s 4ms/step - loss: 0.0427 - accuracy: 0.9915 - val_loss: 0.1111 - val_accuracy: 0.9680\n",
            "Epoch 85/100\n",
            "422/422 [==============================] - 2s 4ms/step - loss: 0.0406 - accuracy: 0.9922 - val_loss: 0.1119 - val_accuracy: 0.9673\n",
            "Epoch 86/100\n",
            "422/422 [==============================] - 2s 4ms/step - loss: 0.0401 - accuracy: 0.9920 - val_loss: 0.1118 - val_accuracy: 0.9682\n",
            "Epoch 87/100\n",
            "422/422 [==============================] - 2s 4ms/step - loss: 0.0404 - accuracy: 0.9921 - val_loss: 0.1115 - val_accuracy: 0.9680\n",
            "Epoch 88/100\n",
            "422/422 [==============================] - 2s 4ms/step - loss: 0.0384 - accuracy: 0.9924 - val_loss: 0.1116 - val_accuracy: 0.9685\n",
            "Epoch 89/100\n",
            "422/422 [==============================] - 2s 4ms/step - loss: 0.0399 - accuracy: 0.9917 - val_loss: 0.1122 - val_accuracy: 0.9672\n",
            "Epoch 90/100\n",
            "422/422 [==============================] - 2s 4ms/step - loss: 0.0387 - accuracy: 0.9926 - val_loss: 0.1114 - val_accuracy: 0.9692\n",
            "Epoch 91/100\n",
            "422/422 [==============================] - 2s 4ms/step - loss: 0.0381 - accuracy: 0.9928 - val_loss: 0.1111 - val_accuracy: 0.9678\n",
            "Epoch 92/100\n",
            "422/422 [==============================] - 2s 4ms/step - loss: 0.0376 - accuracy: 0.9927 - val_loss: 0.1114 - val_accuracy: 0.9680\n",
            "Epoch 93/100\n",
            "422/422 [==============================] - 2s 4ms/step - loss: 0.0380 - accuracy: 0.9925 - val_loss: 0.1109 - val_accuracy: 0.9675\n",
            "Epoch 94/100\n",
            "422/422 [==============================] - 2s 4ms/step - loss: 0.0376 - accuracy: 0.9930 - val_loss: 0.1114 - val_accuracy: 0.9678\n",
            "Epoch 95/100\n",
            "422/422 [==============================] - 2s 4ms/step - loss: 0.0354 - accuracy: 0.9931 - val_loss: 0.1106 - val_accuracy: 0.9692\n",
            "Epoch 96/100\n",
            "422/422 [==============================] - 2s 4ms/step - loss: 0.0358 - accuracy: 0.9932 - val_loss: 0.1113 - val_accuracy: 0.9680\n",
            "Epoch 97/100\n",
            "422/422 [==============================] - 2s 4ms/step - loss: 0.0359 - accuracy: 0.9927 - val_loss: 0.1112 - val_accuracy: 0.9683\n",
            "Epoch 98/100\n",
            "422/422 [==============================] - 2s 4ms/step - loss: 0.0351 - accuracy: 0.9932 - val_loss: 0.1106 - val_accuracy: 0.9688\n",
            "Epoch 99/100\n",
            "422/422 [==============================] - 2s 4ms/step - loss: 0.0345 - accuracy: 0.9932 - val_loss: 0.1103 - val_accuracy: 0.9687\n",
            "Epoch 100/100\n",
            "422/422 [==============================] - 2s 4ms/step - loss: 0.0353 - accuracy: 0.9926 - val_loss: 0.1110 - val_accuracy: 0.9682\n"
          ],
          "name": "stdout"
        }
      ]
    },
    {
      "cell_type": "code",
      "metadata": {
        "colab": {
          "base_uri": "https://localhost:8080/"
        },
        "id": "bModgOpWIdEG",
        "outputId": "c0ea5d4d-cc99-4ed4-af8a-955fc08318ff"
      },
      "source": [
        "loss,accuracy=model3.evaluate(x_te,y_te,verbose=True)\r\n"
      ],
      "execution_count": null,
      "outputs": [
        {
          "output_type": "stream",
          "text": [
            "313/313 [==============================] - 0s 1ms/step - loss: 0.1259 - accuracy: 0.9608\n"
          ],
          "name": "stdout"
        }
      ]
    },
    {
      "cell_type": "code",
      "metadata": {
        "colab": {
          "base_uri": "https://localhost:8080/",
          "height": 295
        },
        "id": "SGO9zgJTIgEY",
        "outputId": "cd4a480d-962b-435c-8699-6bcb26980ee1"
      },
      "source": [
        "plt.plot(history.history['accuracy'])\r\n",
        "plt.plot(history.history['val_accuracy'])\r\n",
        "plt.title('model_accuracy')\r\n",
        "plt.ylabel('accuracy')\r\n",
        "plt.xlabel('epoch')\r\n",
        "plt.legend(['training','validation'],loc='best')\r\n",
        "plt.show()"
      ],
      "execution_count": null,
      "outputs": [
        {
          "output_type": "display_data",
          "data": {
            "image/png": "[encoded data removed]",
            "text/plain": [
              "<Figure size 432x288 with 1 Axes>"
            ]
          },
          "metadata": {
            "tags": [],
            "needs_background": "light"
          }
        }
      ]
    }
  ]
}